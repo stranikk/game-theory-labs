{
 "cells": [
  {
   "cell_type": "markdown",
   "metadata": {
    "collapsed": false
   },
   "source": [
    "# Лабораторная работа №2\n",
    "\n",
    "Цель работы - изучить аналитический (обратной матрицы) и численный (Брауна-Робинсона) методы нахождения смешанных стратегий в антагонистической игре двух лиц в нормальной форме.\n",
    "\n",
    "## Постановка задачи\n",
    "\n",
    "Найдите цену игры и оптимальные стратегии обоих игроков методами обратной матрицы и Брауна-Робинсон. Сравните полученные результаты."
   ]
  },
  {
   "cell_type": "markdown",
   "metadata": {
    "collapsed": false
   },
   "source": [
    "## Ход работы\n",
    "\n",
    "Вариант 5."
   ]
  },
  {
   "cell_type": "code",
   "execution_count": 1,
   "metadata": {
    "collapsed": false
   },
   "outputs": [
   ],
   "source": [
    "pretty_print_default(True)\n",
    "latex.add_to_preamble(\"\\\\usepackage[russian]{babel}\")\n",
    "from IPython.display import display, Math, Latex"
   ]
  },
  {
   "cell_type": "markdown",
   "metadata": {
    "collapsed": false
   },
   "source": [
    "Зададим матрицу игры:"
   ]
  },
  {
   "cell_type": "code",
   "execution_count": 2,
   "metadata": {
    "collapsed": false
   },
   "outputs": [
    {
     "data": {
      "text/html": [
       "<html><script type=\"math/tex; mode=display\">\\newcommand{\\Bold}[1]{\\mathbf{#1}}\\left(\\begin{array}{rrr}\n",
       "8 & 12 & 10 \\\\\n",
       "1 & 6 & 19 \\\\\n",
       "17 & 11 & 11\n",
       "\\end{array}\\right)</script></html>"
      ],
      "text/plain": [
       "[ 8 12 10]\n",
       "[ 1  6 19]\n",
       "[17 11 11]"
      ]
     },
     "execution_count": 2,
     "metadata": {
     },
     "output_type": "execute_result"
    }
   ],
   "source": [
    "C = matrix(SR, 3, 3, [8, 12, 10, 1, 6, 19, 17, 11, 11])\n",
    "C"
   ]
  },
  {
   "cell_type": "markdown",
   "metadata": {
    "collapsed": false
   },
   "source": [
    "Стратегии игрока $A$:"
   ]
  },
  {
   "cell_type": "code",
   "execution_count": 3,
   "metadata": {
    "collapsed": false
   },
   "outputs": [
    {
     "data": {
      "text/html": [
       "<html><script type=\"math/tex; mode=display\">\\newcommand{\\Bold}[1]{\\mathbf{#1}}\\left[\\left(8,\\,12,\\,10\\right), \\left(1,\\,6,\\,19\\right), \\left(17,\\,11,\\,11\\right)\\right]</script></html>"
      ],
      "text/plain": [
       "[(8, 12, 10), (1, 6, 19), (17, 11, 11)]"
      ]
     },
     "execution_count": 3,
     "metadata": {
     },
     "output_type": "execute_result"
    }
   ],
   "source": [
    "x = C.rows()\n",
    "x"
   ]
  },
  {
   "cell_type": "markdown",
   "metadata": {
    "collapsed": false
   },
   "source": [
    "Стратегии игрока $B$:"
   ]
  },
  {
   "cell_type": "code",
   "execution_count": 4,
   "metadata": {
    "collapsed": false
   },
   "outputs": [
    {
     "data": {
      "text/html": [
       "<html><script type=\"math/tex; mode=display\">\\newcommand{\\Bold}[1]{\\mathbf{#1}}\\left[\\left(8,\\,1,\\,17\\right), \\left(12,\\,6,\\,11\\right), \\left(10,\\,19,\\,11\\right)\\right]</script></html>"
      ],
      "text/plain": [
       "[(8, 1, 17), (12, 6, 11), (10, 19, 11)]"
      ]
     },
     "execution_count": 4,
     "metadata": {
     },
     "output_type": "execute_result"
    }
   ],
   "source": [
    "y = C.columns()\n",
    "y"
   ]
  },
  {
   "cell_type": "markdown",
   "metadata": {
    "collapsed": false
   },
   "source": [
    "### Аналитический метод"
   ]
  },
  {
   "cell_type": "code",
   "execution_count": 5,
   "metadata": {
    "collapsed": false,
    "scrolled": true
   },
   "outputs": [
    {
     "data": {
      "text/html": [
       "<html><script type=\"math/tex; mode=display\">\\newcommand{\\Bold}[1]{\\mathbf{#1}}\\left(\\begin{array}{r}\n",
       "\\frac{845}{76}\n",
       "\\end{array}\\right)</script></html>"
      ],
      "text/plain": [
       "[845/76]"
      ]
     },
     "execution_count": 5,
     "metadata": {
     },
     "output_type": "execute_result"
    }
   ],
   "source": [
    "u = matrix(SR, 1, C.nrows(), [1] * C.nrows())\n",
    "v = (1/(u * C^(-1) * u.transpose()))\n",
    "v"
   ]
  },
  {
   "cell_type": "markdown",
   "metadata": {
    "collapsed": false
   },
   "source": [
    "Оптимальные стратегии игрока $A$:"
   ]
  },
  {
   "cell_type": "code",
   "execution_count": 6,
   "metadata": {
    "collapsed": false
   },
   "outputs": [
    {
     "data": {
      "text/html": [
       "<html><script type=\"math/tex; mode=display\">\\newcommand{\\Bold}[1]{\\mathbf{#1}}\\left(\\begin{array}{rrr}\n",
       "\\frac{39}{76} & \\frac{3}{38} & \\frac{31}{76}\n",
       "\\end{array}\\right)</script></html>"
      ],
      "text/plain": [
       "[39/76  3/38 31/76]"
      ]
     },
     "execution_count": 6,
     "metadata": {
     },
     "output_type": "execute_result"
    }
   ],
   "source": [
    "x_star = v * (u * C^(-1))\n",
    "x_star"
   ]
  },
  {
   "cell_type": "markdown",
   "metadata": {
    "collapsed": false
   },
   "source": [
    "Оптимальные стратегии игрока $B$:"
   ]
  },
  {
   "cell_type": "code",
   "execution_count": 7,
   "metadata": {
    "collapsed": false
   },
   "outputs": [
    {
     "data": {
      "text/html": [
       "<html><script type=\"math/tex; mode=display\">\\newcommand{\\Bold}[1]{\\mathbf{#1}}\\left(\\begin{array}{rrr}\n",
       "\\frac{3}{152} & \\frac{11}{19} & \\frac{61}{152}\n",
       "\\end{array}\\right)</script></html>"
      ],
      "text/plain": [
       "[ 3/152  11/19 61/152]"
      ]
     },
     "execution_count": 7,
     "metadata": {
     },
     "output_type": "execute_result"
    }
   ],
   "source": [
    "y_star = v * (C^(-1) * u.transpose()).transpose()\n",
    "y_star"
   ]
  },
  {
   "cell_type": "markdown",
   "metadata": {
    "collapsed": false
   },
   "source": [
    "### Метод Брауна-Робинсон"
   ]
  },
  {
   "cell_type": "code",
   "execution_count": 8,
   "metadata": {
    "collapsed": false,
    "scrolled": true
   },
   "outputs": [
    {
     "data": {
      "text/html": [
       "<div class=\"notruncate\">\n",
       "<table  class=\"table_form\">\n",
       "<tbody>\n",
       "<tr class =\"row-a\">\n",
       "<td><script type=\"math/tex\">k</script></td>\n",
       "<td>Выбор игрока <script type=\"math/tex\">A</script></td>\n",
       "<td>Выбор игрока <script type=\"math/tex\">B</script></td>\n",
       "<td>Выигрыш <script type=\"math/tex\">A</script></td>\n",
       "<td>Проигрыш <script type=\"math/tex\">B</script></td>\n",
       "<td><script type=\"math/tex\">\\overline{v}^{k}</script></td>\n",
       "<td><script type=\"math/tex\">\\underline{v}^{k}</script></td>\n",
       "<td><script type=\"math/tex\">\\varepsilon</script></td>\n",
       "</tr>\n",
       "<tr class =\"row-b\">\n",
       "<td><script type=\"math/tex\">1</script></td>\n",
       "<td><script type=\"math/tex\">1</script></td>\n",
       "<td><script type=\"math/tex\">1</script></td>\n",
       "<td><script type=\"math/tex\">\\left[8, 1, 17\\right]</script></td>\n",
       "<td><script type=\"math/tex\">\\left[8, 12, 10\\right]</script></td>\n",
       "<td><script type=\"math/tex\">17</script></td>\n",
       "<td><script type=\"math/tex\">8</script></td>\n",
       "<td><script type=\"math/tex\">9</script></td>\n",
       "</tr>\n",
       "<tr class =\"row-a\">\n",
       "<td><script type=\"math/tex\">2</script></td>\n",
       "<td><script type=\"math/tex\">3</script></td>\n",
       "<td><script type=\"math/tex\">1</script></td>\n",
       "<td><script type=\"math/tex\">\\left[16, 2, 34\\right]</script></td>\n",
       "<td><script type=\"math/tex\">\\left[25, 23, 21\\right]</script></td>\n",
       "<td><script type=\"math/tex\">17</script></td>\n",
       "<td><script type=\"math/tex\">\\frac{21}{2}</script></td>\n",
       "<td><script type=\"math/tex\">\\frac{13}{2}</script></td>\n",
       "</tr>\n",
       "<tr class =\"row-b\">\n",
       "<td><script type=\"math/tex\">3</script></td>\n",
       "<td><script type=\"math/tex\">3</script></td>\n",
       "<td><script type=\"math/tex\">3</script></td>\n",
       "<td><script type=\"math/tex\">\\left[26, 21, 45\\right]</script></td>\n",
       "<td><script type=\"math/tex\">\\left[42, 34, 32\\right]</script></td>\n",
       "<td><script type=\"math/tex\">15</script></td>\n",
       "<td><script type=\"math/tex\">\\frac{32}{3}</script></td>\n",
       "<td><script type=\"math/tex\">\\frac{13}{3}</script></td>\n",
       "</tr>\n",
       "<tr class =\"row-a\">\n",
       "<td><script type=\"math/tex\">4</script></td>\n",
       "<td><script type=\"math/tex\">3</script></td>\n",
       "<td><script type=\"math/tex\">3</script></td>\n",
       "<td><script type=\"math/tex\">\\left[36, 40, 56\\right]</script></td>\n",
       "<td><script type=\"math/tex\">\\left[59, 45, 43\\right]</script></td>\n",
       "<td><script type=\"math/tex\">14</script></td>\n",
       "<td><script type=\"math/tex\">\\frac{43}{4}</script></td>\n",
       "<td><script type=\"math/tex\">\\frac{13}{4}</script></td>\n",
       "</tr>\n",
       "<tr class =\"row-b\">\n",
       "<td><script type=\"math/tex\">5</script></td>\n",
       "<td><script type=\"math/tex\">3</script></td>\n",
       "<td><script type=\"math/tex\">3</script></td>\n",
       "<td><script type=\"math/tex\">\\left[46, 59, 67\\right]</script></td>\n",
       "<td><script type=\"math/tex\">\\left[76, 56, 54\\right]</script></td>\n",
       "<td><script type=\"math/tex\">\\frac{67}{5}</script></td>\n",
       "<td><script type=\"math/tex\">\\frac{54}{5}</script></td>\n",
       "<td><script type=\"math/tex\">\\frac{13}{5}</script></td>\n",
       "</tr>\n",
       "<tr class =\"row-a\">\n",
       "<td><script type=\"math/tex\">6</script></td>\n",
       "<td><script type=\"math/tex\">3</script></td>\n",
       "<td><script type=\"math/tex\">3</script></td>\n",
       "<td><script type=\"math/tex\">\\left[56, 78, 78\\right]</script></td>\n",
       "<td><script type=\"math/tex\">\\left[93, 67, 65\\right]</script></td>\n",
       "<td><script type=\"math/tex\">13</script></td>\n",
       "<td><script type=\"math/tex\">\\frac{65}{6}</script></td>\n",
       "<td><script type=\"math/tex\">\\frac{13}{6}</script></td>\n",
       "</tr>\n",
       "<tr class =\"row-b\">\n",
       "<td><script type=\"math/tex\">7</script></td>\n",
       "<td><script type=\"math/tex\">3</script></td>\n",
       "<td><script type=\"math/tex\">3</script></td>\n",
       "<td><script type=\"math/tex\">\\left[66, 97, 89\\right]</script></td>\n",
       "<td><script type=\"math/tex\">\\left[110, 78, 76\\right]</script></td>\n",
       "<td><script type=\"math/tex\">\\frac{97}{7}</script></td>\n",
       "<td><script type=\"math/tex\">\\frac{76}{7}</script></td>\n",
       "<td><script type=\"math/tex\">3</script></td>\n",
       "</tr>\n",
       "<tr class =\"row-a\">\n",
       "<td><script type=\"math/tex\">8</script></td>\n",
       "<td><script type=\"math/tex\">2</script></td>\n",
       "<td><script type=\"math/tex\">3</script></td>\n",
       "<td><script type=\"math/tex\">\\left[76, 116, 100\\right]</script></td>\n",
       "<td><script type=\"math/tex\">\\left[111, 84, 95\\right]</script></td>\n",
       "<td><script type=\"math/tex\">\\frac{29}{2}</script></td>\n",
       "<td><script type=\"math/tex\">\\frac{21}{2}</script></td>\n",
       "<td><script type=\"math/tex\">4</script></td>\n",
       "</tr>\n",
       "<tr class =\"row-b\">\n",
       "<td><script type=\"math/tex\">9</script></td>\n",
       "<td><script type=\"math/tex\">2</script></td>\n",
       "<td><script type=\"math/tex\">2</script></td>\n",
       "<td><script type=\"math/tex\">\\left[88, 122, 111\\right]</script></td>\n",
       "<td><script type=\"math/tex\">\\left[112, 90, 114\\right]</script></td>\n",
       "<td><script type=\"math/tex\">\\frac{122}{9}</script></td>\n",
       "<td><script type=\"math/tex\">10</script></td>\n",
       "<td><script type=\"math/tex\">\\frac{32}{9}</script></td>\n",
       "</tr>\n",
       "<tr class =\"row-a\">\n",
       "<td><script type=\"math/tex\">10</script></td>\n",
       "<td><script type=\"math/tex\">2</script></td>\n",
       "<td><script type=\"math/tex\">2</script></td>\n",
       "<td><script type=\"math/tex\">\\left[100, 128, 122\\right]</script></td>\n",
       "<td><script type=\"math/tex\">\\left[113, 96, 133\\right]</script></td>\n",
       "<td><script type=\"math/tex\">\\frac{64}{5}</script></td>\n",
       "<td><script type=\"math/tex\">\\frac{48}{5}</script></td>\n",
       "<td><script type=\"math/tex\">\\frac{16}{5}</script></td>\n",
       "</tr>\n",
       "<tr class =\"row-b\">\n",
       "<td><script type=\"math/tex\">11</script></td>\n",
       "<td><script type=\"math/tex\">2</script></td>\n",
       "<td><script type=\"math/tex\">2</script></td>\n",
       "<td><script type=\"math/tex\">\\left[112, 134, 133\\right]</script></td>\n",
       "<td><script type=\"math/tex\">\\left[114, 102, 152\\right]</script></td>\n",
       "<td><script type=\"math/tex\">\\frac{134}{11}</script></td>\n",
       "<td><script type=\"math/tex\">\\frac{102}{11}</script></td>\n",
       "<td><script type=\"math/tex\">\\frac{32}{11}</script></td>\n",
       "</tr>\n",
       "<tr class =\"row-a\">\n",
       "<td><script type=\"math/tex\">12</script></td>\n",
       "<td><script type=\"math/tex\">2</script></td>\n",
       "<td><script type=\"math/tex\">2</script></td>\n",
       "<td><script type=\"math/tex\">\\left[124, 140, 144\\right]</script></td>\n",
       "<td><script type=\"math/tex\">\\left[115, 108, 171\\right]</script></td>\n",
       "<td><script type=\"math/tex\">12</script></td>\n",
       "<td><script type=\"math/tex\">9</script></td>\n",
       "<td><script type=\"math/tex\">3</script></td>\n",
       "</tr>\n",
       "</tbody>\n",
       "</table>\n",
       "</div>"
      ],
      "text/plain": [
       "  $k$   Выбор игрока $A$   Выбор игрока $B$   Выигрыш $A$   Проигрыш $B$   $\\overline{v}^{k}$   $\\underline{v}^{k}$   $\\varepsilon$\n",
       "  1     1                             1                             [8, 1, 17]           [8, 12, 10]            17                   8                     9\n",
       "  2     3                             1                             [16, 2, 34]          [25, 23, 21]           17                   21/2                  13/2\n",
       "  3     3                             3                             [26, 21, 45]         [42, 34, 32]           15                   32/3                  13/3\n",
       "  4     3                             3                             [36, 40, 56]         [59, 45, 43]           14                   43/4                  13/4\n",
       "  5     3                             3                             [46, 59, 67]         [76, 56, 54]           67/5                 54/5                  13/5\n",
       "  6     3                             3                             [56, 78, 78]         [93, 67, 65]           13                   65/6                  13/6\n",
       "  7     3                             3                             [66, 97, 89]         [110, 78, 76]          97/7                 76/7                  3\n",
       "  8     2                             3                             [76, 116, 100]       [111, 84, 95]          29/2                 21/2                  4\n",
       "  9     2                             2                             [88, 122, 111]       [112, 90, 114]         122/9                10                    32/9\n",
       "  10    2                             2                             [100, 128, 122]      [113, 96, 133]         64/5                 48/5                  16/5\n",
       "  11    2                             2                             [112, 134, 133]      [114, 102, 152]        134/11               102/11                32/11\n",
       "  12    2                             2                             [124, 140, 144]      [115, 108, 171]        12                   9                     3"
      ]
     },
     "execution_count": 8,
     "metadata": {
     },
     "output_type": "execute_result"
    }
   ],
   "source": [
    "k = 12 # Число итераций\n",
    "\n",
    "xk, yk = 0, 0\n",
    "\n",
    "winA = [0] * C.nrows()\n",
    "lossB = [0] * C.ncols()\n",
    "\n",
    "vxk, vyk = dict(), dict()\n",
    "for i in range(C.nrows()):\n",
    "    vxk[i], vyk[i] = 0, 0\n",
    "\n",
    "rows = [['$k$', 'Выбор игрока $A$', 'Выбор игрока $B$', 'Выигрыш $A$', 'Проигрыш $B$', '$\\overline{v}^{k}$', '$\\underline{v}^{k}$', '$\\\\varepsilon$']]\n",
    "for ki in range(1, k + 1):\n",
    "    winA = [xi + yi for xi, yi in zip(winA, y[yk])]\n",
    "    lossB = [xi + yi for xi, yi in zip(lossB, x[xk])]\n",
    "\n",
    "    maxX = max(winA)\n",
    "    minY = min(lossB)\n",
    "\n",
    "    vxk[xk] += 1\n",
    "    vyk[yk] += 1\n",
    "\n",
    "    rows.append([ki, xk + 1, yk + 1, winA, lossB, maxX / ki, minY / ki, maxX / ki - minY / ki])\n",
    "\n",
    "    countX = winA.count(maxX)\n",
    "    countY = lossB.count(minY)\n",
    "\n",
    "    xk = winA.index(maxX)\n",
    "    yk = lossB.index(minY)\n",
    "\n",
    "    if countX > 1 and countY > 1:\n",
    "        raise Exception(\"Should not be at all\")\n",
    "    elif countX == 1 and countY > 1:\n",
    "        if lossB[xk] == minY:\n",
    "            yk = xk\n",
    "    elif countY == 1 and countX > 1:\n",
    "        if winA[yk] == maxX:\n",
    "            xk = yk\n",
    "table(rows)"
   ]
  },
  {
   "cell_type": "markdown",
   "metadata": {
    "collapsed": false
   },
   "source": [
    "Тогда оптимальные стратегии для игрока $A$:"
   ]
  },
  {
   "cell_type": "code",
   "execution_count": 9,
   "metadata": {
    "collapsed": false
   },
   "outputs": [
    {
     "data": {
      "text/html": [
       "<html><script type=\"math/tex; mode=display\">\\newcommand{\\Bold}[1]{\\mathbf{#1}}\\left(\\begin{array}{rrr}\n",
       "\\frac{1}{12} & \\frac{5}{12} & \\frac{1}{2}\n",
       "\\end{array}\\right)</script></html>"
      ],
      "text/plain": [
       "[1/12 5/12  1/2]"
      ]
     },
     "execution_count": 9,
     "metadata": {
     },
     "output_type": "execute_result"
    }
   ],
   "source": [
    "x_strategies = matrix(1, 3, [i / k for i in vxk.values()])\n",
    "x_strategies"
   ]
  },
  {
   "cell_type": "markdown",
   "metadata": {
    "collapsed": false
   },
   "source": [
    "Оптимальные стратегии для игрока $B$:"
   ]
  },
  {
   "cell_type": "code",
   "execution_count": 10,
   "metadata": {
    "collapsed": false
   },
   "outputs": [
    {
     "data": {
      "text/html": [
       "<html><script type=\"math/tex; mode=display\">\\newcommand{\\Bold}[1]{\\mathbf{#1}}\\left(\\begin{array}{rrr}\n",
       "\\frac{1}{6} & \\frac{1}{3} & \\frac{1}{2}\n",
       "\\end{array}\\right)</script></html>"
      ],
      "text/plain": [
       "[1/6 1/3 1/2]"
      ]
     },
     "execution_count": 10,
     "metadata": {
     },
     "output_type": "execute_result"
    }
   ],
   "source": [
    "y_strategies = matrix([i / k for i in vyk.values()])\n",
    "y_strategies"
   ]
  }
 ],
 "metadata": {
  "kernelspec": {
   "display_name": "SageMath (stable)",
   "language": "sagemath",
   "metadata": {
    "cocalc": {
     "description": "Open-source mathematical software system",
     "priority": 10,
     "url": "https://www.sagemath.org/"
    }
   },
   "name": "sagemath"
  },
  "language_info": {
   "codemirror_mode": {
    "name": "ipython",
    "version": 2
   },
   "file_extension": ".py",
   "mimetype": "text/x-python",
   "name": "python",
   "nbconvert_exporter": "python",
   "pygments_lexer": "ipython2",
   "version": "2.7.15"
  }
 },
 "nbformat": 4,
 "nbformat_minor": 0
}