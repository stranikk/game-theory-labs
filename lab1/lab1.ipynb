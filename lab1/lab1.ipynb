{
 "cells": [
  {
   "cell_type": "markdown",
   "metadata": {
    "collapsed": false
   },
   "source": [
    "# Лабораторная работа №1\n",
    "\n",
    "Цель работы - изучить постановку антагонистической игры двух лиц в нормальной форме; найти решение игры за обоих игроков в смешанных стратегиях (стратегическую седловую точку).\n",
    "\n",
    "## Постановка задачи и методические указания\n",
    "\n",
    "Для игры, заданной матрицей $c_{ij}$, требуется найти оптимальные смешанные стратегии обоих игроков, сведя матричную игру к задаче ЛП (прямой для одного игрока и двойственной для другого).\n",
    "\n",
    "Задачи ЛП следует решать симплекс-методом, приводя начальные, промежуточные и конечные симплекс-таблицы. По окончании алгоритма полученные решения необходимо проверить на допустимость."
   ]
  },
  {
   "cell_type": "markdown",
   "metadata": {
    "collapsed": false
   },
   "source": [
    "## Ход работы\n",
    "\n",
    "\n",
    "Зададим матрицу стратегий:"
   ]
  },
  {
   "cell_type": "code",
   "execution_count": 1,
   "metadata": {
    "collapsed": false
   },
   "outputs": [
    {
     "data": {
      "text/plain": [
       "[ 8  1 17  8  1]\n",
       "[12  6 11 10 16]\n",
       "[ 4 19 11 15  2]\n",
       "[17 19  6 17 16]"
      ]
     },
     "execution_count": 1,
     "metadata": {
     },
     "output_type": "execute_result"
    }
   ],
   "source": [
    "from IPython.core.display import display, HTML, Latex\n",
    "\n",
    "C = matrix(SR, 4, 5, [8, 1, 17, 8, 1, 12, 6, 11, 10, 16, 4, 19, 11, 15, 2, 17, 19, 6, 17, 16])\n",
    "C"
   ]
  },
  {
   "cell_type": "markdown",
   "metadata": {
    "collapsed": false
   },
   "source": [
    "Сформулируем задачу линейного программирования для решения симплекс-методом для игрока $A$:"
   ]
  },
  {
   "cell_type": "code",
   "execution_count": 2,
   "metadata": {
    "collapsed": false,
    "scrolled": true
   },
   "outputs": [
   ],
   "source": [
    "A = C.transpose()\n",
    "b = [1] * A.nrows()\n",
    "c = [1] * A.ncols()\n",
    "\n",
    "P = InteractiveLPProblem(A, b, c, constraint_type=[\">=\"] * len(b), problem_type=\"min\", variable_type='>=')"
   ]
  },
  {
   "cell_type": "markdown",
   "metadata": {
    "collapsed": false
   },
   "source": [
    "Решим задачу ЛП симплекс-методом:"
   ]
  },
  {
   "cell_type": "code",
   "execution_count": 3,
   "metadata": {
    "collapsed": false,
    "scrolled": true
   },
   "outputs": [
    {
     "data": {
      "text/latex": [
       "\\begin{equation*}\n",
       "\\renewcommand{\\arraystretch}{1.5} %notruncate\n",
       "\\begin{array}{|rcrcrcrcrcr|}\n",
       "\\hline\n",
       "x_{5} \\mspace{-6mu}&\\mspace{-6mu} = \\mspace{-6mu}&\\mspace{-6mu} -1 \\mspace{-6mu}&\\mspace{-6mu} + \\mspace{-6mu}&\\mspace{-6mu} 8 x_{1} \\mspace{-6mu}&\\mspace{-6mu} + \\mspace{-6mu}&\\mspace{-6mu} 12 x_{2} \\mspace{-6mu}&\\mspace{-6mu} + \\mspace{-6mu}&\\mspace{-6mu} 4 x_{3} \\mspace{-6mu}&\\mspace{-6mu} + \\mspace{-6mu}&\\mspace{-6mu} 17 x_{4}\\\\\n",
       "x_{6} \\mspace{-6mu}&\\mspace{-6mu} = \\mspace{-6mu}&\\mspace{-6mu} -1 \\mspace{-6mu}&\\mspace{-6mu} + \\mspace{-6mu}&\\mspace{-6mu} x_{1} \\mspace{-6mu}&\\mspace{-6mu} + \\mspace{-6mu}&\\mspace{-6mu} 6 x_{2} \\mspace{-6mu}&\\mspace{-6mu} + \\mspace{-6mu}&\\mspace{-6mu} 19 x_{3} \\mspace{-6mu}&\\mspace{-6mu} + \\mspace{-6mu}&\\mspace{-6mu} 19 x_{4}\\\\\n",
       "x_{7} \\mspace{-6mu}&\\mspace{-6mu} = \\mspace{-6mu}&\\mspace{-6mu} -1 \\mspace{-6mu}&\\mspace{-6mu} + \\mspace{-6mu}&\\mspace{-6mu} 17 x_{1} \\mspace{-6mu}&\\mspace{-6mu} + \\mspace{-6mu}&\\mspace{-6mu} 11 x_{2} \\mspace{-6mu}&\\mspace{-6mu} + \\mspace{-6mu}&\\mspace{-6mu} 11 x_{3} \\mspace{-6mu}&\\mspace{-6mu} + \\mspace{-6mu}&\\mspace{-6mu} 6 x_{4}\\\\\n",
       "x_{8} \\mspace{-6mu}&\\mspace{-6mu} = \\mspace{-6mu}&\\mspace{-6mu} -1 \\mspace{-6mu}&\\mspace{-6mu} + \\mspace{-6mu}&\\mspace{-6mu} 8 x_{1} \\mspace{-6mu}&\\mspace{-6mu} + \\mspace{-6mu}&\\mspace{-6mu} 10 x_{2} \\mspace{-6mu}&\\mspace{-6mu} + \\mspace{-6mu}&\\mspace{-6mu} 15 x_{3} \\mspace{-6mu}&\\mspace{-6mu} + \\mspace{-6mu}&\\mspace{-6mu} 17 x_{4}\\\\\n",
       "x_{9} \\mspace{-6mu}&\\mspace{-6mu} = \\mspace{-6mu}&\\mspace{-6mu} -1 \\mspace{-6mu}&\\mspace{-6mu} + \\mspace{-6mu}&\\mspace{-6mu} x_{1} \\mspace{-6mu}&\\mspace{-6mu} + \\mspace{-6mu}&\\mspace{-6mu} 16 x_{2} \\mspace{-6mu}&\\mspace{-6mu} + \\mspace{-6mu}&\\mspace{-6mu} 2 x_{3} \\mspace{-6mu}&\\mspace{-6mu} + \\mspace{-6mu}&\\mspace{-6mu} 16 x_{4}\\\\\n",
       "\\hline\n",
       "-z \\mspace{-6mu}&\\mspace{-6mu} = \\mspace{-6mu}&\\mspace{-6mu} 0 \\mspace{-6mu}&\\mspace{-6mu} - \\mspace{-6mu}&\\mspace{-6mu} x_{1} \\mspace{-6mu}&\\mspace{-6mu} - \\mspace{-6mu}&\\mspace{-6mu} x_{2} \\mspace{-6mu}&\\mspace{-6mu} - \\mspace{-6mu}&\\mspace{-6mu} x_{3} \\mspace{-6mu}&\\mspace{-6mu} - \\mspace{-6mu}&\\mspace{-6mu} x_{4}\\\\\n",
       "\\hline\n",
       "\\end{array}\n",
       "\\end{equation*}\n",
       "The initial dictionary is infeasible, solving auxiliary problem.\n",
       "\\begin{equation*}\n",
       "\\renewcommand{\\arraystretch}{1.5} %notruncate\n",
       "\\begin{array}{|rcrcrcrcrcrcr|}\n",
       "\\hline\n",
       "\\color{red}x_{5} \\mspace{-6mu}&\\color{red}\\mspace{-6mu} = \\mspace{-6mu}&\\color{red}\\mspace{-6mu} -1 \\mspace{-6mu}&\\color{red}\\mspace{-6mu} + \\mspace{-6mu}&\\color{blue}\\mspace{-6mu} x_{0} \\mspace{-6mu}&\\color{red}\\mspace{-6mu} + \\mspace{-6mu}&\\color{red}\\mspace{-6mu} 8 x_{1} \\mspace{-6mu}&\\color{red}\\mspace{-6mu} + \\mspace{-6mu}&\\color{red}\\mspace{-6mu} 12 x_{2} \\mspace{-6mu}&\\color{red}\\mspace{-6mu} + \\mspace{-6mu}&\\color{red}\\mspace{-6mu} 4 x_{3} \\mspace{-6mu}&\\color{red}\\mspace{-6mu} + \\mspace{-6mu}&\\color{red}\\mspace{-6mu} 17 x_{4}\\\\\n",
       "x_{6} \\mspace{-6mu}&\\mspace{-6mu} = \\mspace{-6mu}&\\mspace{-6mu} -1 \\mspace{-6mu}&\\mspace{-6mu} + \\mspace{-6mu}&\\color{green}\\mspace{-6mu} x_{0} \\mspace{-6mu}&\\mspace{-6mu} + \\mspace{-6mu}&\\mspace{-6mu} x_{1} \\mspace{-6mu}&\\mspace{-6mu} + \\mspace{-6mu}&\\mspace{-6mu} 6 x_{2} \\mspace{-6mu}&\\mspace{-6mu} + \\mspace{-6mu}&\\mspace{-6mu} 19 x_{3} \\mspace{-6mu}&\\mspace{-6mu} + \\mspace{-6mu}&\\mspace{-6mu} 19 x_{4}\\\\\n",
       "x_{7} \\mspace{-6mu}&\\mspace{-6mu} = \\mspace{-6mu}&\\mspace{-6mu} -1 \\mspace{-6mu}&\\mspace{-6mu} + \\mspace{-6mu}&\\color{green}\\mspace{-6mu} x_{0} \\mspace{-6mu}&\\mspace{-6mu} + \\mspace{-6mu}&\\mspace{-6mu} 17 x_{1} \\mspace{-6mu}&\\mspace{-6mu} + \\mspace{-6mu}&\\mspace{-6mu} 11 x_{2} \\mspace{-6mu}&\\mspace{-6mu} + \\mspace{-6mu}&\\mspace{-6mu} 11 x_{3} \\mspace{-6mu}&\\mspace{-6mu} + \\mspace{-6mu}&\\mspace{-6mu} 6 x_{4}\\\\\n",
       "x_{8} \\mspace{-6mu}&\\mspace{-6mu} = \\mspace{-6mu}&\\mspace{-6mu} -1 \\mspace{-6mu}&\\mspace{-6mu} + \\mspace{-6mu}&\\color{green}\\mspace{-6mu} x_{0} \\mspace{-6mu}&\\mspace{-6mu} + \\mspace{-6mu}&\\mspace{-6mu} 8 x_{1} \\mspace{-6mu}&\\mspace{-6mu} + \\mspace{-6mu}&\\mspace{-6mu} 10 x_{2} \\mspace{-6mu}&\\mspace{-6mu} + \\mspace{-6mu}&\\mspace{-6mu} 15 x_{3} \\mspace{-6mu}&\\mspace{-6mu} + \\mspace{-6mu}&\\mspace{-6mu} 17 x_{4}\\\\\n",
       "x_{9} \\mspace{-6mu}&\\mspace{-6mu} = \\mspace{-6mu}&\\mspace{-6mu} -1 \\mspace{-6mu}&\\mspace{-6mu} + \\mspace{-6mu}&\\color{green}\\mspace{-6mu} x_{0} \\mspace{-6mu}&\\mspace{-6mu} + \\mspace{-6mu}&\\mspace{-6mu} x_{1} \\mspace{-6mu}&\\mspace{-6mu} + \\mspace{-6mu}&\\mspace{-6mu} 16 x_{2} \\mspace{-6mu}&\\mspace{-6mu} + \\mspace{-6mu}&\\mspace{-6mu} 2 x_{3} \\mspace{-6mu}&\\mspace{-6mu} + \\mspace{-6mu}&\\mspace{-6mu} 16 x_{4}\\\\\n",
       "\\hline\n",
       "w \\mspace{-6mu}&\\mspace{-6mu} = \\mspace{-6mu}&\\mspace{-6mu} 0 \\mspace{-6mu}&\\mspace{-6mu} - \\mspace{-6mu}&\\color{green}\\mspace{-6mu} x_{0} \\mspace{-6mu}&\\mspace{-6mu}  \\mspace{-6mu}&\\mspace{-6mu}  \\mspace{-6mu}&\\mspace{-6mu}  \\mspace{-6mu}&\\mspace{-6mu}  \\mspace{-6mu}&\\mspace{-6mu}  \\mspace{-6mu}&\\mspace{-6mu}  \\mspace{-6mu}&\\mspace{-6mu}  \\mspace{-6mu}&\\mspace{-6mu} \\\\\n",
       "\\hline\n",
       "\\end{array}\n",
       "\\end{equation*}\n",
       "Entering: $x_{0}$. Leaving: $x_{5}$. \n",
       "\\begin{equation*}\n",
       "\\renewcommand{\\arraystretch}{1.5} %notruncate\n",
       "\\begin{array}{|rcrcrcrcrcrcr|}\n",
       "\\hline\n",
       "x_{0} \\mspace{-6mu}&\\mspace{-6mu} = \\mspace{-6mu}&\\mspace{-6mu} 1 \\mspace{-6mu}&\\mspace{-6mu} + \\mspace{-6mu}&\\mspace{-6mu} x_{5} \\mspace{-6mu}&\\mspace{-6mu} - \\mspace{-6mu}&\\color{green}\\mspace{-6mu} 8 x_{1} \\mspace{-6mu}&\\mspace{-6mu} - \\mspace{-6mu}&\\mspace{-6mu} 12 x_{2} \\mspace{-6mu}&\\mspace{-6mu} - \\mspace{-6mu}&\\mspace{-6mu} 4 x_{3} \\mspace{-6mu}&\\mspace{-6mu} - \\mspace{-6mu}&\\mspace{-6mu} 17 x_{4}\\\\\n",
       "\\color{red}x_{6} \\mspace{-6mu}&\\color{red}\\mspace{-6mu} = \\mspace{-6mu}&\\color{red}\\mspace{-6mu} 0 \\mspace{-6mu}&\\color{red}\\mspace{-6mu} + \\mspace{-6mu}&\\color{red}\\mspace{-6mu} x_{5} \\mspace{-6mu}&\\color{red}\\mspace{-6mu} - \\mspace{-6mu}&\\color{blue}\\mspace{-6mu} 7 x_{1} \\mspace{-6mu}&\\color{red}\\mspace{-6mu} - \\mspace{-6mu}&\\color{red}\\mspace{-6mu} 6 x_{2} \\mspace{-6mu}&\\color{red}\\mspace{-6mu} + \\mspace{-6mu}&\\color{red}\\mspace{-6mu} 15 x_{3} \\mspace{-6mu}&\\color{red}\\mspace{-6mu} + \\mspace{-6mu}&\\color{red}\\mspace{-6mu} 2 x_{4}\\\\\n",
       "x_{7} \\mspace{-6mu}&\\mspace{-6mu} = \\mspace{-6mu}&\\mspace{-6mu} 0 \\mspace{-6mu}&\\mspace{-6mu} + \\mspace{-6mu}&\\mspace{-6mu} x_{5} \\mspace{-6mu}&\\mspace{-6mu} + \\mspace{-6mu}&\\color{green}\\mspace{-6mu} 9 x_{1} \\mspace{-6mu}&\\mspace{-6mu} - \\mspace{-6mu}&\\mspace{-6mu} x_{2} \\mspace{-6mu}&\\mspace{-6mu} + \\mspace{-6mu}&\\mspace{-6mu} 7 x_{3} \\mspace{-6mu}&\\mspace{-6mu} - \\mspace{-6mu}&\\mspace{-6mu} 11 x_{4}\\\\\n",
       "x_{8} \\mspace{-6mu}&\\mspace{-6mu} = \\mspace{-6mu}&\\mspace{-6mu} 0 \\mspace{-6mu}&\\mspace{-6mu} + \\mspace{-6mu}&\\mspace{-6mu} x_{5} \\mspace{-6mu}&\\mspace{-6mu}  \\mspace{-6mu}&\\color{green}\\mspace{-6mu}  \\mspace{-6mu}&\\mspace{-6mu} - \\mspace{-6mu}&\\mspace{-6mu} 2 x_{2} \\mspace{-6mu}&\\mspace{-6mu} + \\mspace{-6mu}&\\mspace{-6mu} 11 x_{3} \\mspace{-6mu}&\\mspace{-6mu}  \\mspace{-6mu}&\\mspace{-6mu} \\\\\n",
       "x_{9} \\mspace{-6mu}&\\mspace{-6mu} = \\mspace{-6mu}&\\mspace{-6mu} 0 \\mspace{-6mu}&\\mspace{-6mu} + \\mspace{-6mu}&\\mspace{-6mu} x_{5} \\mspace{-6mu}&\\mspace{-6mu} - \\mspace{-6mu}&\\color{green}\\mspace{-6mu} 7 x_{1} \\mspace{-6mu}&\\mspace{-6mu} + \\mspace{-6mu}&\\mspace{-6mu} 4 x_{2} \\mspace{-6mu}&\\mspace{-6mu} - \\mspace{-6mu}&\\mspace{-6mu} 2 x_{3} \\mspace{-6mu}&\\mspace{-6mu} - \\mspace{-6mu}&\\mspace{-6mu} x_{4}\\\\\n",
       "\\hline\n",
       "w \\mspace{-6mu}&\\mspace{-6mu} = \\mspace{-6mu}&\\mspace{-6mu} -1 \\mspace{-6mu}&\\mspace{-6mu} - \\mspace{-6mu}&\\mspace{-6mu} x_{5} \\mspace{-6mu}&\\mspace{-6mu} + \\mspace{-6mu}&\\color{green}\\mspace{-6mu} 8 x_{1} \\mspace{-6mu}&\\mspace{-6mu} + \\mspace{-6mu}&\\mspace{-6mu} 12 x_{2} \\mspace{-6mu}&\\mspace{-6mu} + \\mspace{-6mu}&\\mspace{-6mu} 4 x_{3} \\mspace{-6mu}&\\mspace{-6mu} + \\mspace{-6mu}&\\mspace{-6mu} 17 x_{4}\\\\\n",
       "\\hline\n",
       "\\end{array}\n",
       "\\end{equation*}\n",
       "Entering: $x_{1}$. Leaving: $x_{6}$. \n",
       "\\begin{equation*}\n",
       "\\renewcommand{\\arraystretch}{1.5} %notruncate\n",
       "\\begin{array}{|rcrcrcrcrcrcr|}\n",
       "\\hline\n",
       "x_{0} \\mspace{-6mu}&\\mspace{-6mu} = \\mspace{-6mu}&\\mspace{-6mu} 1 \\mspace{-6mu}&\\mspace{-6mu} - \\mspace{-6mu}&\\mspace{-6mu} \\frac{1}{7} x_{5} \\mspace{-6mu}&\\mspace{-6mu} + \\mspace{-6mu}&\\mspace{-6mu} \\frac{8}{7} x_{6} \\mspace{-6mu}&\\mspace{-6mu} - \\mspace{-6mu}&\\color{green}\\mspace{-6mu} \\frac{36}{7} x_{2} \\mspace{-6mu}&\\mspace{-6mu} - \\mspace{-6mu}&\\mspace{-6mu} \\frac{148}{7} x_{3} \\mspace{-6mu}&\\mspace{-6mu} - \\mspace{-6mu}&\\mspace{-6mu} \\frac{135}{7} x_{4}\\\\\n",
       "\\color{red}x_{1} \\mspace{-6mu}&\\color{red}\\mspace{-6mu} = \\mspace{-6mu}&\\color{red}\\mspace{-6mu} 0 \\mspace{-6mu}&\\color{red}\\mspace{-6mu} + \\mspace{-6mu}&\\color{red}\\mspace{-6mu} \\frac{1}{7} x_{5} \\mspace{-6mu}&\\color{red}\\mspace{-6mu} - \\mspace{-6mu}&\\color{red}\\mspace{-6mu} \\frac{1}{7} x_{6} \\mspace{-6mu}&\\color{red}\\mspace{-6mu} - \\mspace{-6mu}&\\color{blue}\\mspace{-6mu} \\frac{6}{7} x_{2} \\mspace{-6mu}&\\color{red}\\mspace{-6mu} + \\mspace{-6mu}&\\color{red}\\mspace{-6mu} \\frac{15}{7} x_{3} \\mspace{-6mu}&\\color{red}\\mspace{-6mu} + \\mspace{-6mu}&\\color{red}\\mspace{-6mu} \\frac{2}{7} x_{4}\\\\\n",
       "x_{7} \\mspace{-6mu}&\\mspace{-6mu} = \\mspace{-6mu}&\\mspace{-6mu} 0 \\mspace{-6mu}&\\mspace{-6mu} + \\mspace{-6mu}&\\mspace{-6mu} \\frac{16}{7} x_{5} \\mspace{-6mu}&\\mspace{-6mu} - \\mspace{-6mu}&\\mspace{-6mu} \\frac{9}{7} x_{6} \\mspace{-6mu}&\\mspace{-6mu} - \\mspace{-6mu}&\\color{green}\\mspace{-6mu} \\frac{61}{7} x_{2} \\mspace{-6mu}&\\mspace{-6mu} + \\mspace{-6mu}&\\mspace{-6mu} \\frac{184}{7} x_{3} \\mspace{-6mu}&\\mspace{-6mu} - \\mspace{-6mu}&\\mspace{-6mu} \\frac{59}{7} x_{4}\\\\\n",
       "x_{8} \\mspace{-6mu}&\\mspace{-6mu} = \\mspace{-6mu}&\\mspace{-6mu} 0 \\mspace{-6mu}&\\mspace{-6mu} + \\mspace{-6mu}&\\mspace{-6mu} x_{5} \\mspace{-6mu}&\\mspace{-6mu}  \\mspace{-6mu}&\\mspace{-6mu}  \\mspace{-6mu}&\\mspace{-6mu} - \\mspace{-6mu}&\\color{green}\\mspace{-6mu} 2 x_{2} \\mspace{-6mu}&\\mspace{-6mu} + \\mspace{-6mu}&\\mspace{-6mu} 11 x_{3} \\mspace{-6mu}&\\mspace{-6mu}  \\mspace{-6mu}&\\mspace{-6mu} \\\\\n",
       "x_{9} \\mspace{-6mu}&\\mspace{-6mu} = \\mspace{-6mu}&\\mspace{-6mu} 0 \\mspace{-6mu}&\\mspace{-6mu}  \\mspace{-6mu}&\\mspace{-6mu}  \\mspace{-6mu}&\\mspace{-6mu} + \\mspace{-6mu}&\\mspace{-6mu} x_{6} \\mspace{-6mu}&\\mspace{-6mu} + \\mspace{-6mu}&\\color{green}\\mspace{-6mu} 10 x_{2} \\mspace{-6mu}&\\mspace{-6mu} - \\mspace{-6mu}&\\mspace{-6mu} 17 x_{3} \\mspace{-6mu}&\\mspace{-6mu} - \\mspace{-6mu}&\\mspace{-6mu} 3 x_{4}\\\\\n",
       "\\hline\n",
       "w \\mspace{-6mu}&\\mspace{-6mu} = \\mspace{-6mu}&\\mspace{-6mu} -1 \\mspace{-6mu}&\\mspace{-6mu} + \\mspace{-6mu}&\\mspace{-6mu} \\frac{1}{7} x_{5} \\mspace{-6mu}&\\mspace{-6mu} - \\mspace{-6mu}&\\mspace{-6mu} \\frac{8}{7} x_{6} \\mspace{-6mu}&\\mspace{-6mu} + \\mspace{-6mu}&\\color{green}\\mspace{-6mu} \\frac{36}{7} x_{2} \\mspace{-6mu}&\\mspace{-6mu} + \\mspace{-6mu}&\\mspace{-6mu} \\frac{148}{7} x_{3} \\mspace{-6mu}&\\mspace{-6mu} + \\mspace{-6mu}&\\mspace{-6mu} \\frac{135}{7} x_{4}\\\\\n",
       "\\hline\n",
       "\\end{array}\n",
       "\\end{equation*}\n",
       "Entering: $x_{2}$. Leaving: $x_{1}$. \n",
       "\\begin{equation*}\n",
       "\\renewcommand{\\arraystretch}{1.5} %notruncate\n",
       "\\begin{array}{|rcrcrcrcrcrcr|}\n",
       "\\hline\n",
       "\\color{red}x_{0} \\mspace{-6mu}&\\color{red}\\mspace{-6mu} = \\mspace{-6mu}&\\color{red}\\mspace{-6mu} 1 \\mspace{-6mu}&\\color{red}\\mspace{-6mu} - \\mspace{-6mu}&\\color{red}\\mspace{-6mu} x_{5} \\mspace{-6mu}&\\color{red}\\mspace{-6mu} + \\mspace{-6mu}&\\color{red}\\mspace{-6mu} 2 x_{6} \\mspace{-6mu}&\\color{red}\\mspace{-6mu} + \\mspace{-6mu}&\\color{red}\\mspace{-6mu} 6 x_{1} \\mspace{-6mu}&\\color{red}\\mspace{-6mu} - \\mspace{-6mu}&\\color{blue}\\mspace{-6mu} 34 x_{3} \\mspace{-6mu}&\\color{red}\\mspace{-6mu} - \\mspace{-6mu}&\\color{red}\\mspace{-6mu} 21 x_{4}\\\\\n",
       "x_{2} \\mspace{-6mu}&\\mspace{-6mu} = \\mspace{-6mu}&\\mspace{-6mu} 0 \\mspace{-6mu}&\\mspace{-6mu} + \\mspace{-6mu}&\\mspace{-6mu} \\frac{1}{6} x_{5} \\mspace{-6mu}&\\mspace{-6mu} - \\mspace{-6mu}&\\mspace{-6mu} \\frac{1}{6} x_{6} \\mspace{-6mu}&\\mspace{-6mu} - \\mspace{-6mu}&\\mspace{-6mu} \\frac{7}{6} x_{1} \\mspace{-6mu}&\\mspace{-6mu} + \\mspace{-6mu}&\\color{green}\\mspace{-6mu} \\frac{5}{2} x_{3} \\mspace{-6mu}&\\mspace{-6mu} + \\mspace{-6mu}&\\mspace{-6mu} \\frac{1}{3} x_{4}\\\\\n",
       "x_{7} \\mspace{-6mu}&\\mspace{-6mu} = \\mspace{-6mu}&\\mspace{-6mu} 0 \\mspace{-6mu}&\\mspace{-6mu} + \\mspace{-6mu}&\\mspace{-6mu} \\frac{5}{6} x_{5} \\mspace{-6mu}&\\mspace{-6mu} + \\mspace{-6mu}&\\mspace{-6mu} \\frac{1}{6} x_{6} \\mspace{-6mu}&\\mspace{-6mu} + \\mspace{-6mu}&\\mspace{-6mu} \\frac{61}{6} x_{1} \\mspace{-6mu}&\\mspace{-6mu} + \\mspace{-6mu}&\\color{green}\\mspace{-6mu} \\frac{9}{2} x_{3} \\mspace{-6mu}&\\mspace{-6mu} - \\mspace{-6mu}&\\mspace{-6mu} \\frac{34}{3} x_{4}\\\\\n",
       "x_{8} \\mspace{-6mu}&\\mspace{-6mu} = \\mspace{-6mu}&\\mspace{-6mu} 0 \\mspace{-6mu}&\\mspace{-6mu} + \\mspace{-6mu}&\\mspace{-6mu} \\frac{2}{3} x_{5} \\mspace{-6mu}&\\mspace{-6mu} + \\mspace{-6mu}&\\mspace{-6mu} \\frac{1}{3} x_{6} \\mspace{-6mu}&\\mspace{-6mu} + \\mspace{-6mu}&\\mspace{-6mu} \\frac{7}{3} x_{1} \\mspace{-6mu}&\\mspace{-6mu} + \\mspace{-6mu}&\\color{green}\\mspace{-6mu} 6 x_{3} \\mspace{-6mu}&\\mspace{-6mu} - \\mspace{-6mu}&\\mspace{-6mu} \\frac{2}{3} x_{4}\\\\\n",
       "x_{9} \\mspace{-6mu}&\\mspace{-6mu} = \\mspace{-6mu}&\\mspace{-6mu} 0 \\mspace{-6mu}&\\mspace{-6mu} + \\mspace{-6mu}&\\mspace{-6mu} \\frac{5}{3} x_{5} \\mspace{-6mu}&\\mspace{-6mu} - \\mspace{-6mu}&\\mspace{-6mu} \\frac{2}{3} x_{6} \\mspace{-6mu}&\\mspace{-6mu} - \\mspace{-6mu}&\\mspace{-6mu} \\frac{35}{3} x_{1} \\mspace{-6mu}&\\mspace{-6mu} + \\mspace{-6mu}&\\color{green}\\mspace{-6mu} 8 x_{3} \\mspace{-6mu}&\\mspace{-6mu} + \\mspace{-6mu}&\\mspace{-6mu} \\frac{1}{3} x_{4}\\\\\n",
       "\\hline\n",
       "w \\mspace{-6mu}&\\mspace{-6mu} = \\mspace{-6mu}&\\mspace{-6mu} -1 \\mspace{-6mu}&\\mspace{-6mu} + \\mspace{-6mu}&\\mspace{-6mu} x_{5} \\mspace{-6mu}&\\mspace{-6mu} - \\mspace{-6mu}&\\mspace{-6mu} 2 x_{6} \\mspace{-6mu}&\\mspace{-6mu} - \\mspace{-6mu}&\\mspace{-6mu} 6 x_{1} \\mspace{-6mu}&\\mspace{-6mu} + \\mspace{-6mu}&\\color{green}\\mspace{-6mu} 34 x_{3} \\mspace{-6mu}&\\mspace{-6mu} + \\mspace{-6mu}&\\mspace{-6mu} 21 x_{4}\\\\\n",
       "\\hline\n",
       "\\end{array}\n",
       "\\end{equation*}\n",
       "Entering: $x_{3}$. Leaving: $x_{0}$. \n",
       "\\begin{equation*}\n",
       "\\renewcommand{\\arraystretch}{1.5} %notruncate\n",
       "\\begin{array}{|rcrcrcrcrcrcr|}\n",
       "\\hline\n",
       "x_{3} \\mspace{-6mu}&\\mspace{-6mu} = \\mspace{-6mu}&\\mspace{-6mu} \\frac{1}{34} \\mspace{-6mu}&\\mspace{-6mu} - \\mspace{-6mu}&\\mspace{-6mu} \\frac{1}{34} x_{5} \\mspace{-6mu}&\\mspace{-6mu} + \\mspace{-6mu}&\\mspace{-6mu} \\frac{1}{17} x_{6} \\mspace{-6mu}&\\mspace{-6mu} + \\mspace{-6mu}&\\mspace{-6mu} \\frac{3}{17} x_{1} \\mspace{-6mu}&\\mspace{-6mu} - \\mspace{-6mu}&\\mspace{-6mu} \\frac{1}{34} x_{0} \\mspace{-6mu}&\\mspace{-6mu} - \\mspace{-6mu}&\\mspace{-6mu} \\frac{21}{34} x_{4}\\\\\n",
       "x_{2} \\mspace{-6mu}&\\mspace{-6mu} = \\mspace{-6mu}&\\mspace{-6mu} \\frac{5}{68} \\mspace{-6mu}&\\mspace{-6mu} + \\mspace{-6mu}&\\mspace{-6mu} \\frac{19}{204} x_{5} \\mspace{-6mu}&\\mspace{-6mu} - \\mspace{-6mu}&\\mspace{-6mu} \\frac{1}{51} x_{6} \\mspace{-6mu}&\\mspace{-6mu} - \\mspace{-6mu}&\\mspace{-6mu} \\frac{37}{51} x_{1} \\mspace{-6mu}&\\mspace{-6mu} - \\mspace{-6mu}&\\mspace{-6mu} \\frac{5}{68} x_{0} \\mspace{-6mu}&\\mspace{-6mu} - \\mspace{-6mu}&\\mspace{-6mu} \\frac{247}{204} x_{4}\\\\\n",
       "x_{7} \\mspace{-6mu}&\\mspace{-6mu} = \\mspace{-6mu}&\\mspace{-6mu} \\frac{9}{68} \\mspace{-6mu}&\\mspace{-6mu} + \\mspace{-6mu}&\\mspace{-6mu} \\frac{143}{204} x_{5} \\mspace{-6mu}&\\mspace{-6mu} + \\mspace{-6mu}&\\mspace{-6mu} \\frac{22}{51} x_{6} \\mspace{-6mu}&\\mspace{-6mu} + \\mspace{-6mu}&\\mspace{-6mu} \\frac{559}{51} x_{1} \\mspace{-6mu}&\\mspace{-6mu} - \\mspace{-6mu}&\\mspace{-6mu} \\frac{9}{68} x_{0} \\mspace{-6mu}&\\mspace{-6mu} - \\mspace{-6mu}&\\mspace{-6mu} \\frac{2879}{204} x_{4}\\\\\n",
       "x_{8} \\mspace{-6mu}&\\mspace{-6mu} = \\mspace{-6mu}&\\mspace{-6mu} \\frac{3}{17} \\mspace{-6mu}&\\mspace{-6mu} + \\mspace{-6mu}&\\mspace{-6mu} \\frac{25}{51} x_{5} \\mspace{-6mu}&\\mspace{-6mu} + \\mspace{-6mu}&\\mspace{-6mu} \\frac{35}{51} x_{6} \\mspace{-6mu}&\\mspace{-6mu} + \\mspace{-6mu}&\\mspace{-6mu} \\frac{173}{51} x_{1} \\mspace{-6mu}&\\mspace{-6mu} - \\mspace{-6mu}&\\mspace{-6mu} \\frac{3}{17} x_{0} \\mspace{-6mu}&\\mspace{-6mu} - \\mspace{-6mu}&\\mspace{-6mu} \\frac{223}{51} x_{4}\\\\\n",
       "x_{9} \\mspace{-6mu}&\\mspace{-6mu} = \\mspace{-6mu}&\\mspace{-6mu} \\frac{4}{17} \\mspace{-6mu}&\\mspace{-6mu} + \\mspace{-6mu}&\\mspace{-6mu} \\frac{73}{51} x_{5} \\mspace{-6mu}&\\mspace{-6mu} - \\mspace{-6mu}&\\mspace{-6mu} \\frac{10}{51} x_{6} \\mspace{-6mu}&\\mspace{-6mu} - \\mspace{-6mu}&\\mspace{-6mu} \\frac{523}{51} x_{1} \\mspace{-6mu}&\\mspace{-6mu} - \\mspace{-6mu}&\\mspace{-6mu} \\frac{4}{17} x_{0} \\mspace{-6mu}&\\mspace{-6mu} - \\mspace{-6mu}&\\mspace{-6mu} \\frac{235}{51} x_{4}\\\\\n",
       "\\hline\n",
       "w \\mspace{-6mu}&\\mspace{-6mu} = \\mspace{-6mu}&\\mspace{-6mu} 0 \\mspace{-6mu}&\\mspace{-6mu}  \\mspace{-6mu}&\\mspace{-6mu}  \\mspace{-6mu}&\\mspace{-6mu}  \\mspace{-6mu}&\\mspace{-6mu}  \\mspace{-6mu}&\\mspace{-6mu}  \\mspace{-6mu}&\\mspace{-6mu}  \\mspace{-6mu}&\\mspace{-6mu} - \\mspace{-6mu}&\\mspace{-6mu} x_{0} \\mspace{-6mu}&\\mspace{-6mu}  \\mspace{-6mu}&\\mspace{-6mu} \\\\\n",
       "\\hline\n",
       "\\end{array}\n",
       "\\end{equation*}\n",
       "Back to the original problem.\n",
       "\\begin{equation*}\n",
       "\\renewcommand{\\arraystretch}{1.5} %notruncate\n",
       "\\begin{array}{|rcrcrcrcrcr|}\n",
       "\\hline\n",
       "x_{3} \\mspace{-6mu}&\\mspace{-6mu} = \\mspace{-6mu}&\\mspace{-6mu} \\frac{1}{34} \\mspace{-6mu}&\\mspace{-6mu} - \\mspace{-6mu}&\\mspace{-6mu} \\frac{1}{34} x_{5} \\mspace{-6mu}&\\mspace{-6mu} + \\mspace{-6mu}&\\mspace{-6mu} \\frac{1}{17} x_{6} \\mspace{-6mu}&\\mspace{-6mu} + \\mspace{-6mu}&\\mspace{-6mu} \\frac{3}{17} x_{1} \\mspace{-6mu}&\\mspace{-6mu} - \\mspace{-6mu}&\\color{green}\\mspace{-6mu} \\frac{21}{34} x_{4}\\\\\n",
       "x_{2} \\mspace{-6mu}&\\mspace{-6mu} = \\mspace{-6mu}&\\mspace{-6mu} \\frac{5}{68} \\mspace{-6mu}&\\mspace{-6mu} + \\mspace{-6mu}&\\mspace{-6mu} \\frac{19}{204} x_{5} \\mspace{-6mu}&\\mspace{-6mu} - \\mspace{-6mu}&\\mspace{-6mu} \\frac{1}{51} x_{6} \\mspace{-6mu}&\\mspace{-6mu} - \\mspace{-6mu}&\\mspace{-6mu} \\frac{37}{51} x_{1} \\mspace{-6mu}&\\mspace{-6mu} - \\mspace{-6mu}&\\color{green}\\mspace{-6mu} \\frac{247}{204} x_{4}\\\\\n",
       "\\color{red}x_{7} \\mspace{-6mu}&\\color{red}\\mspace{-6mu} = \\mspace{-6mu}&\\color{red}\\mspace{-6mu} \\frac{9}{68} \\mspace{-6mu}&\\color{red}\\mspace{-6mu} + \\mspace{-6mu}&\\color{red}\\mspace{-6mu} \\frac{143}{204} x_{5} \\mspace{-6mu}&\\color{red}\\mspace{-6mu} + \\mspace{-6mu}&\\color{red}\\mspace{-6mu} \\frac{22}{51} x_{6} \\mspace{-6mu}&\\color{red}\\mspace{-6mu} + \\mspace{-6mu}&\\color{red}\\mspace{-6mu} \\frac{559}{51} x_{1} \\mspace{-6mu}&\\color{red}\\mspace{-6mu} - \\mspace{-6mu}&\\color{blue}\\mspace{-6mu} \\frac{2879}{204} x_{4}\\\\\n",
       "x_{8} \\mspace{-6mu}&\\mspace{-6mu} = \\mspace{-6mu}&\\mspace{-6mu} \\frac{3}{17} \\mspace{-6mu}&\\mspace{-6mu} + \\mspace{-6mu}&\\mspace{-6mu} \\frac{25}{51} x_{5} \\mspace{-6mu}&\\mspace{-6mu} + \\mspace{-6mu}&\\mspace{-6mu} \\frac{35}{51} x_{6} \\mspace{-6mu}&\\mspace{-6mu} + \\mspace{-6mu}&\\mspace{-6mu} \\frac{173}{51} x_{1} \\mspace{-6mu}&\\mspace{-6mu} - \\mspace{-6mu}&\\color{green}\\mspace{-6mu} \\frac{223}{51} x_{4}\\\\\n",
       "x_{9} \\mspace{-6mu}&\\mspace{-6mu} = \\mspace{-6mu}&\\mspace{-6mu} \\frac{4}{17} \\mspace{-6mu}&\\mspace{-6mu} + \\mspace{-6mu}&\\mspace{-6mu} \\frac{73}{51} x_{5} \\mspace{-6mu}&\\mspace{-6mu} - \\mspace{-6mu}&\\mspace{-6mu} \\frac{10}{51} x_{6} \\mspace{-6mu}&\\mspace{-6mu} - \\mspace{-6mu}&\\mspace{-6mu} \\frac{523}{51} x_{1} \\mspace{-6mu}&\\mspace{-6mu} - \\mspace{-6mu}&\\color{green}\\mspace{-6mu} \\frac{235}{51} x_{4}\\\\\n",
       "\\hline\n",
       "-z \\mspace{-6mu}&\\mspace{-6mu} = \\mspace{-6mu}&\\mspace{-6mu} -\\frac{7}{68} \\mspace{-6mu}&\\mspace{-6mu} - \\mspace{-6mu}&\\mspace{-6mu} \\frac{13}{204} x_{5} \\mspace{-6mu}&\\mspace{-6mu} - \\mspace{-6mu}&\\mspace{-6mu} \\frac{2}{51} x_{6} \\mspace{-6mu}&\\mspace{-6mu} - \\mspace{-6mu}&\\mspace{-6mu} \\frac{23}{51} x_{1} \\mspace{-6mu}&\\mspace{-6mu} + \\mspace{-6mu}&\\color{green}\\mspace{-6mu} \\frac{169}{204} x_{4}\\\\\n",
       "\\hline\n",
       "\\end{array}\n",
       "\\end{equation*}\n",
       "Entering: $x_{4}$. Leaving: $x_{7}$. \n",
       "\\begin{equation*}\n",
       "\\renewcommand{\\arraystretch}{1.5} %notruncate\n",
       "\\begin{array}{|rcrcrcrcrcr|}\n",
       "\\hline\n",
       "x_{3} \\mspace{-6mu}&\\mspace{-6mu} = \\mspace{-6mu}&\\mspace{-6mu} \\frac{68}{2879} \\mspace{-6mu}&\\mspace{-6mu} - \\mspace{-6mu}&\\mspace{-6mu} \\frac{173}{2879} x_{5} \\mspace{-6mu}&\\mspace{-6mu} + \\mspace{-6mu}&\\mspace{-6mu} \\frac{115}{2879} x_{6} \\mspace{-6mu}&\\mspace{-6mu} - \\mspace{-6mu}&\\color{green}\\mspace{-6mu} \\frac{873}{2879} x_{1} \\mspace{-6mu}&\\mspace{-6mu} + \\mspace{-6mu}&\\mspace{-6mu} \\frac{126}{2879} x_{7}\\\\\n",
       "x_{2} \\mspace{-6mu}&\\mspace{-6mu} = \\mspace{-6mu}&\\mspace{-6mu} \\frac{179}{2879} \\mspace{-6mu}&\\mspace{-6mu} + \\mspace{-6mu}&\\mspace{-6mu} \\frac{95}{2879} x_{5} \\mspace{-6mu}&\\mspace{-6mu} - \\mspace{-6mu}&\\mspace{-6mu} \\frac{163}{2879} x_{6} \\mspace{-6mu}&\\mspace{-6mu} - \\mspace{-6mu}&\\color{green}\\mspace{-6mu} \\frac{4796}{2879} x_{1} \\mspace{-6mu}&\\mspace{-6mu} + \\mspace{-6mu}&\\mspace{-6mu} \\frac{247}{2879} x_{7}\\\\\n",
       "x_{4} \\mspace{-6mu}&\\mspace{-6mu} = \\mspace{-6mu}&\\mspace{-6mu} \\frac{27}{2879} \\mspace{-6mu}&\\mspace{-6mu} + \\mspace{-6mu}&\\mspace{-6mu} \\frac{143}{2879} x_{5} \\mspace{-6mu}&\\mspace{-6mu} + \\mspace{-6mu}&\\mspace{-6mu} \\frac{88}{2879} x_{6} \\mspace{-6mu}&\\mspace{-6mu} + \\mspace{-6mu}&\\color{green}\\mspace{-6mu} \\frac{2236}{2879} x_{1} \\mspace{-6mu}&\\mspace{-6mu} - \\mspace{-6mu}&\\mspace{-6mu} \\frac{204}{2879} x_{7}\\\\\n",
       "x_{8} \\mspace{-6mu}&\\mspace{-6mu} = \\mspace{-6mu}&\\mspace{-6mu} \\frac{390}{2879} \\mspace{-6mu}&\\mspace{-6mu} + \\mspace{-6mu}&\\mspace{-6mu} \\frac{786}{2879} x_{5} \\mspace{-6mu}&\\mspace{-6mu} + \\mspace{-6mu}&\\mspace{-6mu} \\frac{1591}{2879} x_{6} \\mspace{-6mu}&\\mspace{-6mu} - \\mspace{-6mu}&\\color{green}\\mspace{-6mu} \\frac{11}{2879} x_{1} \\mspace{-6mu}&\\mspace{-6mu} + \\mspace{-6mu}&\\mspace{-6mu} \\frac{892}{2879} x_{7}\\\\\n",
       "\\color{red}x_{9} \\mspace{-6mu}&\\color{red}\\mspace{-6mu} = \\mspace{-6mu}&\\color{red}\\mspace{-6mu} \\frac{553}{2879} \\mspace{-6mu}&\\color{red}\\mspace{-6mu} + \\mspace{-6mu}&\\color{red}\\mspace{-6mu} \\frac{3462}{2879} x_{5} \\mspace{-6mu}&\\color{red}\\mspace{-6mu} - \\mspace{-6mu}&\\color{red}\\mspace{-6mu} \\frac{970}{2879} x_{6} \\mspace{-6mu}&\\color{red}\\mspace{-6mu} - \\mspace{-6mu}&\\color{blue}\\mspace{-6mu} \\frac{39827}{2879} x_{1} \\mspace{-6mu}&\\color{red}\\mspace{-6mu} + \\mspace{-6mu}&\\color{red}\\mspace{-6mu} \\frac{940}{2879} x_{7}\\\\\n",
       "\\hline\n",
       "-z \\mspace{-6mu}&\\mspace{-6mu} = \\mspace{-6mu}&\\mspace{-6mu} -\\frac{274}{2879} \\mspace{-6mu}&\\mspace{-6mu} - \\mspace{-6mu}&\\mspace{-6mu} \\frac{65}{2879} x_{5} \\mspace{-6mu}&\\mspace{-6mu} - \\mspace{-6mu}&\\mspace{-6mu} \\frac{40}{2879} x_{6} \\mspace{-6mu}&\\mspace{-6mu} + \\mspace{-6mu}&\\color{green}\\mspace{-6mu} \\frac{554}{2879} x_{1} \\mspace{-6mu}&\\mspace{-6mu} - \\mspace{-6mu}&\\mspace{-6mu} \\frac{169}{2879} x_{7}\\\\\n",
       "\\hline\n",
       "\\end{array}\n",
       "\\end{equation*}\n",
       "Entering: $x_{1}$. Leaving: $x_{9}$. \n",
       "\\begin{equation*}\n",
       "\\renewcommand{\\arraystretch}{1.5} %notruncate\n",
       "\\begin{array}{|rcrcrcrcrcr|}\n",
       "\\hline\n",
       "x_{3} \\mspace{-6mu}&\\mspace{-6mu} = \\mspace{-6mu}&\\mspace{-6mu} \\frac{773}{39827} \\mspace{-6mu}&\\mspace{-6mu} - \\mspace{-6mu}&\\mspace{-6mu} \\frac{3443}{39827} x_{5} \\mspace{-6mu}&\\mspace{-6mu} + \\mspace{-6mu}&\\mspace{-6mu} \\frac{1885}{39827} x_{6} \\mspace{-6mu}&\\mspace{-6mu} + \\mspace{-6mu}&\\mspace{-6mu} \\frac{873}{39827} x_{9} \\mspace{-6mu}&\\mspace{-6mu} + \\mspace{-6mu}&\\mspace{-6mu} \\frac{1458}{39827} x_{7}\\\\\n",
       "x_{2} \\mspace{-6mu}&\\mspace{-6mu} = \\mspace{-6mu}&\\mspace{-6mu} \\frac{1555}{39827} \\mspace{-6mu}&\\mspace{-6mu} - \\mspace{-6mu}&\\mspace{-6mu} \\frac{4453}{39827} x_{5} \\mspace{-6mu}&\\mspace{-6mu} - \\mspace{-6mu}&\\mspace{-6mu} \\frac{639}{39827} x_{6} \\mspace{-6mu}&\\mspace{-6mu} + \\mspace{-6mu}&\\mspace{-6mu} \\frac{4796}{39827} x_{9} \\mspace{-6mu}&\\mspace{-6mu} + \\mspace{-6mu}&\\mspace{-6mu} \\frac{1851}{39827} x_{7}\\\\\n",
       "x_{4} \\mspace{-6mu}&\\mspace{-6mu} = \\mspace{-6mu}&\\mspace{-6mu} \\frac{803}{39827} \\mspace{-6mu}&\\mspace{-6mu} + \\mspace{-6mu}&\\mspace{-6mu} \\frac{4667}{39827} x_{5} \\mspace{-6mu}&\\mspace{-6mu} + \\mspace{-6mu}&\\mspace{-6mu} \\frac{464}{39827} x_{6} \\mspace{-6mu}&\\mspace{-6mu} - \\mspace{-6mu}&\\mspace{-6mu} \\frac{2236}{39827} x_{9} \\mspace{-6mu}&\\mspace{-6mu} - \\mspace{-6mu}&\\mspace{-6mu} \\frac{2092}{39827} x_{7}\\\\\n",
       "x_{8} \\mspace{-6mu}&\\mspace{-6mu} = \\mspace{-6mu}&\\mspace{-6mu} \\frac{5393}{39827} \\mspace{-6mu}&\\mspace{-6mu} + \\mspace{-6mu}&\\mspace{-6mu} \\frac{10860}{39827} x_{5} \\mspace{-6mu}&\\mspace{-6mu} + \\mspace{-6mu}&\\mspace{-6mu} \\frac{22013}{39827} x_{6} \\mspace{-6mu}&\\mspace{-6mu} + \\mspace{-6mu}&\\mspace{-6mu} \\frac{11}{39827} x_{9} \\mspace{-6mu}&\\mspace{-6mu} + \\mspace{-6mu}&\\mspace{-6mu} \\frac{12336}{39827} x_{7}\\\\\n",
       "x_{1} \\mspace{-6mu}&\\mspace{-6mu} = \\mspace{-6mu}&\\mspace{-6mu} \\frac{553}{39827} \\mspace{-6mu}&\\mspace{-6mu} + \\mspace{-6mu}&\\mspace{-6mu} \\frac{3462}{39827} x_{5} \\mspace{-6mu}&\\mspace{-6mu} - \\mspace{-6mu}&\\mspace{-6mu} \\frac{970}{39827} x_{6} \\mspace{-6mu}&\\mspace{-6mu} - \\mspace{-6mu}&\\mspace{-6mu} \\frac{2879}{39827} x_{9} \\mspace{-6mu}&\\mspace{-6mu} + \\mspace{-6mu}&\\mspace{-6mu} \\frac{940}{39827} x_{7}\\\\\n",
       "\\hline\n",
       "-z \\mspace{-6mu}&\\mspace{-6mu} = \\mspace{-6mu}&\\mspace{-6mu} -\\frac{3684}{39827} \\mspace{-6mu}&\\mspace{-6mu} - \\mspace{-6mu}&\\mspace{-6mu} \\frac{233}{39827} x_{5} \\mspace{-6mu}&\\mspace{-6mu} - \\mspace{-6mu}&\\mspace{-6mu} \\frac{740}{39827} x_{6} \\mspace{-6mu}&\\mspace{-6mu} - \\mspace{-6mu}&\\mspace{-6mu} \\frac{554}{39827} x_{9} \\mspace{-6mu}&\\mspace{-6mu} - \\mspace{-6mu}&\\mspace{-6mu} \\frac{2157}{39827} x_{7}\\\\\n",
       "\\hline\n",
       "\\end{array}\n",
       "\\end{equation*}\n",
       "The optimal value: $\\frac{3684}{39827}$. An optimal solution: $\\left(\\frac{553}{39827},\\,\\frac{1555}{39827},\\,\\frac{773}{39827},\\,\\frac{803}{39827}\\right)$."
      ],
      "text/plain": [
       "<IPython.core.display.Latex object>"
      ]
     },
     "execution_count": 3,
     "metadata": {
     },
     "output_type": "execute_result"
    }
   ],
   "source": [
    "P = P.standard_form()\n",
    "Latex(P.run_simplex_method())"
   ]
  },
  {
   "cell_type": "code",
   "execution_count": 4,
   "metadata": {
    "collapsed": false
   },
   "outputs": [
    {
     "name": "stdout",
     "output_type": "stream",
     "text": [
      "[553/3684, 1555/3684, 773/3684, 803/3684]\n"
     ]
    }
   ],
   "source": [
    "D = P.final_dictionary()\n",
    "\n",
    "W = -D.objective_value()\n",
    "g = 1/W\n",
    "\n",
    "solution = D.basic_solution()\n",
    "\n",
    "x = [i * g for i in solution]\n",
    "print(x)"
   ]
  },
  {
   "cell_type": "markdown",
   "metadata": {
    "collapsed": false
   },
   "source": [
    "Таким образом, оптимальная смешанная стратегия игрока $A$: $\\left(\\frac{553}{3684}, \\frac{1555}{3684}, \\frac{773}{3684}, \\frac{803}{3684}\\right)$."
   ]
  },
  {
   "cell_type": "markdown",
   "metadata": {
    "collapsed": false
   },
   "source": [
    "Сформулируем задачу ЛП для игрока $B$:"
   ]
  },
  {
   "cell_type": "code",
   "execution_count": 5,
   "metadata": {
    "collapsed": false
   },
   "outputs": [
   ],
   "source": [
    "B = C\n",
    "b = [1] * B.nrows()\n",
    "c = [1] * B.ncols()\n",
    "\n",
    "P = InteractiveLPProblem(B, b, c, constraint_type=[\"<=\"] * len(b), problem_type=\"max\", variable_type='>=')"
   ]
  },
  {
   "cell_type": "code",
   "execution_count": 6,
   "metadata": {
    "collapsed": false
   },
   "outputs": [
    {
     "data": {
      "text/latex": [
       "\\begin{equation*}\n",
       "\\renewcommand{\\arraystretch}{1.5} %notruncate\n",
       "\\begin{array}{|rcrcrcrcrcrcr|}\n",
       "\\hline\n",
       "x_{6} \\mspace{-6mu}&\\mspace{-6mu} = \\mspace{-6mu}&\\mspace{-6mu} 1 \\mspace{-6mu}&\\mspace{-6mu} - \\mspace{-6mu}&\\color{green}\\mspace{-6mu} 8 x_{1} \\mspace{-6mu}&\\mspace{-6mu} - \\mspace{-6mu}&\\mspace{-6mu} x_{2} \\mspace{-6mu}&\\mspace{-6mu} - \\mspace{-6mu}&\\mspace{-6mu} 17 x_{3} \\mspace{-6mu}&\\mspace{-6mu} - \\mspace{-6mu}&\\mspace{-6mu} 8 x_{4} \\mspace{-6mu}&\\mspace{-6mu} - \\mspace{-6mu}&\\mspace{-6mu} x_{5}\\\\\n",
       "x_{7} \\mspace{-6mu}&\\mspace{-6mu} = \\mspace{-6mu}&\\mspace{-6mu} 1 \\mspace{-6mu}&\\mspace{-6mu} - \\mspace{-6mu}&\\color{green}\\mspace{-6mu} 12 x_{1} \\mspace{-6mu}&\\mspace{-6mu} - \\mspace{-6mu}&\\mspace{-6mu} 6 x_{2} \\mspace{-6mu}&\\mspace{-6mu} - \\mspace{-6mu}&\\mspace{-6mu} 11 x_{3} \\mspace{-6mu}&\\mspace{-6mu} - \\mspace{-6mu}&\\mspace{-6mu} 10 x_{4} \\mspace{-6mu}&\\mspace{-6mu} - \\mspace{-6mu}&\\mspace{-6mu} 16 x_{5}\\\\\n",
       "x_{8} \\mspace{-6mu}&\\mspace{-6mu} = \\mspace{-6mu}&\\mspace{-6mu} 1 \\mspace{-6mu}&\\mspace{-6mu} - \\mspace{-6mu}&\\color{green}\\mspace{-6mu} 4 x_{1} \\mspace{-6mu}&\\mspace{-6mu} - \\mspace{-6mu}&\\mspace{-6mu} 19 x_{2} \\mspace{-6mu}&\\mspace{-6mu} - \\mspace{-6mu}&\\mspace{-6mu} 11 x_{3} \\mspace{-6mu}&\\mspace{-6mu} - \\mspace{-6mu}&\\mspace{-6mu} 15 x_{4} \\mspace{-6mu}&\\mspace{-6mu} - \\mspace{-6mu}&\\mspace{-6mu} 2 x_{5}\\\\\n",
       "\\color{red}x_{9} \\mspace{-6mu}&\\color{red}\\mspace{-6mu} = \\mspace{-6mu}&\\color{red}\\mspace{-6mu} 1 \\mspace{-6mu}&\\color{red}\\mspace{-6mu} - \\mspace{-6mu}&\\color{blue}\\mspace{-6mu} 17 x_{1} \\mspace{-6mu}&\\color{red}\\mspace{-6mu} - \\mspace{-6mu}&\\color{red}\\mspace{-6mu} 19 x_{2} \\mspace{-6mu}&\\color{red}\\mspace{-6mu} - \\mspace{-6mu}&\\color{red}\\mspace{-6mu} 6 x_{3} \\mspace{-6mu}&\\color{red}\\mspace{-6mu} - \\mspace{-6mu}&\\color{red}\\mspace{-6mu} 17 x_{4} \\mspace{-6mu}&\\color{red}\\mspace{-6mu} - \\mspace{-6mu}&\\color{red}\\mspace{-6mu} 16 x_{5}\\\\\n",
       "\\hline\n",
       "z \\mspace{-6mu}&\\mspace{-6mu} = \\mspace{-6mu}&\\mspace{-6mu} 0 \\mspace{-6mu}&\\mspace{-6mu} + \\mspace{-6mu}&\\color{green}\\mspace{-6mu} x_{1} \\mspace{-6mu}&\\mspace{-6mu} + \\mspace{-6mu}&\\mspace{-6mu} x_{2} \\mspace{-6mu}&\\mspace{-6mu} + \\mspace{-6mu}&\\mspace{-6mu} x_{3} \\mspace{-6mu}&\\mspace{-6mu} + \\mspace{-6mu}&\\mspace{-6mu} x_{4} \\mspace{-6mu}&\\mspace{-6mu} + \\mspace{-6mu}&\\mspace{-6mu} x_{5}\\\\\n",
       "\\hline\n",
       "\\end{array}\n",
       "\\end{equation*}\n",
       "Entering: $x_{1}$. Leaving: $x_{9}$. \n",
       "\\begin{equation*}\n",
       "\\renewcommand{\\arraystretch}{1.5} %notruncate\n",
       "\\begin{array}{|rcrcrcrcrcrcr|}\n",
       "\\hline\n",
       "\\color{red}x_{6} \\mspace{-6mu}&\\color{red}\\mspace{-6mu} = \\mspace{-6mu}&\\color{red}\\mspace{-6mu} \\frac{9}{17} \\mspace{-6mu}&\\color{red}\\mspace{-6mu} + \\mspace{-6mu}&\\color{red}\\mspace{-6mu} \\frac{8}{17} x_{9} \\mspace{-6mu}&\\color{red}\\mspace{-6mu} + \\mspace{-6mu}&\\color{red}\\mspace{-6mu} \\frac{135}{17} x_{2} \\mspace{-6mu}&\\color{red}\\mspace{-6mu} - \\mspace{-6mu}&\\color{blue}\\mspace{-6mu} \\frac{241}{17} x_{3} \\mspace{-6mu}&\\color{red}\\mspace{-6mu}  \\mspace{-6mu}&\\color{red}\\mspace{-6mu}  \\mspace{-6mu}&\\color{red}\\mspace{-6mu} + \\mspace{-6mu}&\\color{red}\\mspace{-6mu} \\frac{111}{17} x_{5}\\\\\n",
       "x_{7} \\mspace{-6mu}&\\mspace{-6mu} = \\mspace{-6mu}&\\mspace{-6mu} \\frac{5}{17} \\mspace{-6mu}&\\mspace{-6mu} + \\mspace{-6mu}&\\mspace{-6mu} \\frac{12}{17} x_{9} \\mspace{-6mu}&\\mspace{-6mu} + \\mspace{-6mu}&\\mspace{-6mu} \\frac{126}{17} x_{2} \\mspace{-6mu}&\\mspace{-6mu} - \\mspace{-6mu}&\\color{green}\\mspace{-6mu} \\frac{115}{17} x_{3} \\mspace{-6mu}&\\mspace{-6mu} + \\mspace{-6mu}&\\mspace{-6mu} 2 x_{4} \\mspace{-6mu}&\\mspace{-6mu} - \\mspace{-6mu}&\\mspace{-6mu} \\frac{80}{17} x_{5}\\\\\n",
       "x_{8} \\mspace{-6mu}&\\mspace{-6mu} = \\mspace{-6mu}&\\mspace{-6mu} \\frac{13}{17} \\mspace{-6mu}&\\mspace{-6mu} + \\mspace{-6mu}&\\mspace{-6mu} \\frac{4}{17} x_{9} \\mspace{-6mu}&\\mspace{-6mu} - \\mspace{-6mu}&\\mspace{-6mu} \\frac{247}{17} x_{2} \\mspace{-6mu}&\\mspace{-6mu} - \\mspace{-6mu}&\\color{green}\\mspace{-6mu} \\frac{163}{17} x_{3} \\mspace{-6mu}&\\mspace{-6mu} - \\mspace{-6mu}&\\mspace{-6mu} 11 x_{4} \\mspace{-6mu}&\\mspace{-6mu} + \\mspace{-6mu}&\\mspace{-6mu} \\frac{30}{17} x_{5}\\\\\n",
       "x_{1} \\mspace{-6mu}&\\mspace{-6mu} = \\mspace{-6mu}&\\mspace{-6mu} \\frac{1}{17} \\mspace{-6mu}&\\mspace{-6mu} - \\mspace{-6mu}&\\mspace{-6mu} \\frac{1}{17} x_{9} \\mspace{-6mu}&\\mspace{-6mu} - \\mspace{-6mu}&\\mspace{-6mu} \\frac{19}{17} x_{2} \\mspace{-6mu}&\\mspace{-6mu} - \\mspace{-6mu}&\\color{green}\\mspace{-6mu} \\frac{6}{17} x_{3} \\mspace{-6mu}&\\mspace{-6mu} - \\mspace{-6mu}&\\mspace{-6mu} x_{4} \\mspace{-6mu}&\\mspace{-6mu} - \\mspace{-6mu}&\\mspace{-6mu} \\frac{16}{17} x_{5}\\\\\n",
       "\\hline\n",
       "z \\mspace{-6mu}&\\mspace{-6mu} = \\mspace{-6mu}&\\mspace{-6mu} \\frac{1}{17} \\mspace{-6mu}&\\mspace{-6mu} - \\mspace{-6mu}&\\mspace{-6mu} \\frac{1}{17} x_{9} \\mspace{-6mu}&\\mspace{-6mu} - \\mspace{-6mu}&\\mspace{-6mu} \\frac{2}{17} x_{2} \\mspace{-6mu}&\\mspace{-6mu} + \\mspace{-6mu}&\\color{green}\\mspace{-6mu} \\frac{11}{17} x_{3} \\mspace{-6mu}&\\mspace{-6mu}  \\mspace{-6mu}&\\mspace{-6mu}  \\mspace{-6mu}&\\mspace{-6mu} + \\mspace{-6mu}&\\mspace{-6mu} \\frac{1}{17} x_{5}\\\\\n",
       "\\hline\n",
       "\\end{array}\n",
       "\\end{equation*}\n",
       "Entering: $x_{3}$. Leaving: $x_{6}$. \n",
       "\\begin{equation*}\n",
       "\\renewcommand{\\arraystretch}{1.5} %notruncate\n",
       "\\begin{array}{|rcrcrcrcrcrcr|}\n",
       "\\hline\n",
       "x_{3} \\mspace{-6mu}&\\mspace{-6mu} = \\mspace{-6mu}&\\mspace{-6mu} \\frac{9}{241} \\mspace{-6mu}&\\mspace{-6mu} + \\mspace{-6mu}&\\mspace{-6mu} \\frac{8}{241} x_{9} \\mspace{-6mu}&\\mspace{-6mu} + \\mspace{-6mu}&\\color{green}\\mspace{-6mu} \\frac{135}{241} x_{2} \\mspace{-6mu}&\\mspace{-6mu} - \\mspace{-6mu}&\\mspace{-6mu} \\frac{17}{241} x_{6} \\mspace{-6mu}&\\mspace{-6mu}  \\mspace{-6mu}&\\mspace{-6mu}  \\mspace{-6mu}&\\mspace{-6mu} + \\mspace{-6mu}&\\mspace{-6mu} \\frac{111}{241} x_{5}\\\\\n",
       "x_{7} \\mspace{-6mu}&\\mspace{-6mu} = \\mspace{-6mu}&\\mspace{-6mu} \\frac{10}{241} \\mspace{-6mu}&\\mspace{-6mu} + \\mspace{-6mu}&\\mspace{-6mu} \\frac{116}{241} x_{9} \\mspace{-6mu}&\\mspace{-6mu} + \\mspace{-6mu}&\\color{green}\\mspace{-6mu} \\frac{873}{241} x_{2} \\mspace{-6mu}&\\mspace{-6mu} + \\mspace{-6mu}&\\mspace{-6mu} \\frac{115}{241} x_{6} \\mspace{-6mu}&\\mspace{-6mu} + \\mspace{-6mu}&\\mspace{-6mu} 2 x_{4} \\mspace{-6mu}&\\mspace{-6mu} - \\mspace{-6mu}&\\mspace{-6mu} \\frac{1885}{241} x_{5}\\\\\n",
       "\\color{red}x_{8} \\mspace{-6mu}&\\color{red}\\mspace{-6mu} = \\mspace{-6mu}&\\color{red}\\mspace{-6mu} \\frac{98}{241} \\mspace{-6mu}&\\color{red}\\mspace{-6mu} - \\mspace{-6mu}&\\color{red}\\mspace{-6mu} \\frac{20}{241} x_{9} \\mspace{-6mu}&\\color{red}\\mspace{-6mu} - \\mspace{-6mu}&\\color{blue}\\mspace{-6mu} \\frac{4796}{241} x_{2} \\mspace{-6mu}&\\color{red}\\mspace{-6mu} + \\mspace{-6mu}&\\color{red}\\mspace{-6mu} \\frac{163}{241} x_{6} \\mspace{-6mu}&\\color{red}\\mspace{-6mu} - \\mspace{-6mu}&\\color{red}\\mspace{-6mu} 11 x_{4} \\mspace{-6mu}&\\color{red}\\mspace{-6mu} - \\mspace{-6mu}&\\color{red}\\mspace{-6mu} \\frac{639}{241} x_{5}\\\\\n",
       "x_{1} \\mspace{-6mu}&\\mspace{-6mu} = \\mspace{-6mu}&\\mspace{-6mu} \\frac{11}{241} \\mspace{-6mu}&\\mspace{-6mu} - \\mspace{-6mu}&\\mspace{-6mu} \\frac{17}{241} x_{9} \\mspace{-6mu}&\\mspace{-6mu} - \\mspace{-6mu}&\\color{green}\\mspace{-6mu} \\frac{317}{241} x_{2} \\mspace{-6mu}&\\mspace{-6mu} + \\mspace{-6mu}&\\mspace{-6mu} \\frac{6}{241} x_{6} \\mspace{-6mu}&\\mspace{-6mu} - \\mspace{-6mu}&\\mspace{-6mu} x_{4} \\mspace{-6mu}&\\mspace{-6mu} - \\mspace{-6mu}&\\mspace{-6mu} \\frac{266}{241} x_{5}\\\\\n",
       "\\hline\n",
       "z \\mspace{-6mu}&\\mspace{-6mu} = \\mspace{-6mu}&\\mspace{-6mu} \\frac{20}{241} \\mspace{-6mu}&\\mspace{-6mu} - \\mspace{-6mu}&\\mspace{-6mu} \\frac{9}{241} x_{9} \\mspace{-6mu}&\\mspace{-6mu} + \\mspace{-6mu}&\\color{green}\\mspace{-6mu} \\frac{59}{241} x_{2} \\mspace{-6mu}&\\mspace{-6mu} - \\mspace{-6mu}&\\mspace{-6mu} \\frac{11}{241} x_{6} \\mspace{-6mu}&\\mspace{-6mu}  \\mspace{-6mu}&\\mspace{-6mu}  \\mspace{-6mu}&\\mspace{-6mu} + \\mspace{-6mu}&\\mspace{-6mu} \\frac{86}{241} x_{5}\\\\\n",
       "\\hline\n",
       "\\end{array}\n",
       "\\end{equation*}\n",
       "Entering: $x_{2}$. Leaving: $x_{8}$. \n",
       "\\begin{equation*}\n",
       "\\renewcommand{\\arraystretch}{1.5} %notruncate\n",
       "\\begin{array}{|rcrcrcrcrcrcr|}\n",
       "\\hline\n",
       "x_{3} \\mspace{-6mu}&\\mspace{-6mu} = \\mspace{-6mu}&\\mspace{-6mu} \\frac{117}{2398} \\mspace{-6mu}&\\mspace{-6mu} + \\mspace{-6mu}&\\mspace{-6mu} \\frac{37}{1199} x_{9} \\mspace{-6mu}&\\mspace{-6mu} - \\mspace{-6mu}&\\mspace{-6mu} \\frac{135}{4796} x_{8} \\mspace{-6mu}&\\mspace{-6mu} - \\mspace{-6mu}&\\mspace{-6mu} \\frac{247}{4796} x_{6} \\mspace{-6mu}&\\mspace{-6mu} - \\mspace{-6mu}&\\mspace{-6mu} \\frac{135}{436} x_{4} \\mspace{-6mu}&\\mspace{-6mu} + \\mspace{-6mu}&\\color{green}\\mspace{-6mu} \\frac{1851}{4796} x_{5}\\\\\n",
       "\\color{red}x_{7} \\mspace{-6mu}&\\color{red}\\mspace{-6mu} = \\mspace{-6mu}&\\color{red}\\mspace{-6mu} \\frac{277}{2398} \\mspace{-6mu}&\\color{red}\\mspace{-6mu} + \\mspace{-6mu}&\\color{red}\\mspace{-6mu} \\frac{559}{1199} x_{9} \\mspace{-6mu}&\\color{red}\\mspace{-6mu} - \\mspace{-6mu}&\\color{red}\\mspace{-6mu} \\frac{873}{4796} x_{8} \\mspace{-6mu}&\\color{red}\\mspace{-6mu} + \\mspace{-6mu}&\\color{red}\\mspace{-6mu} \\frac{2879}{4796} x_{6} \\mspace{-6mu}&\\color{red}\\mspace{-6mu} - \\mspace{-6mu}&\\color{red}\\mspace{-6mu} \\frac{1}{436} x_{4} \\mspace{-6mu}&\\color{red}\\mspace{-6mu} - \\mspace{-6mu}&\\color{blue}\\mspace{-6mu} \\frac{39827}{4796} x_{5}\\\\\n",
       "x_{2} \\mspace{-6mu}&\\mspace{-6mu} = \\mspace{-6mu}&\\mspace{-6mu} \\frac{49}{2398} \\mspace{-6mu}&\\mspace{-6mu} - \\mspace{-6mu}&\\mspace{-6mu} \\frac{5}{1199} x_{9} \\mspace{-6mu}&\\mspace{-6mu} - \\mspace{-6mu}&\\mspace{-6mu} \\frac{241}{4796} x_{8} \\mspace{-6mu}&\\mspace{-6mu} + \\mspace{-6mu}&\\mspace{-6mu} \\frac{163}{4796} x_{6} \\mspace{-6mu}&\\mspace{-6mu} - \\mspace{-6mu}&\\mspace{-6mu} \\frac{241}{436} x_{4} \\mspace{-6mu}&\\mspace{-6mu} - \\mspace{-6mu}&\\color{green}\\mspace{-6mu} \\frac{639}{4796} x_{5}\\\\\n",
       "x_{1} \\mspace{-6mu}&\\mspace{-6mu} = \\mspace{-6mu}&\\mspace{-6mu} \\frac{45}{2398} \\mspace{-6mu}&\\mspace{-6mu} - \\mspace{-6mu}&\\mspace{-6mu} \\frac{78}{1199} x_{9} \\mspace{-6mu}&\\mspace{-6mu} + \\mspace{-6mu}&\\mspace{-6mu} \\frac{317}{4796} x_{8} \\mspace{-6mu}&\\mspace{-6mu} - \\mspace{-6mu}&\\mspace{-6mu} \\frac{95}{4796} x_{6} \\mspace{-6mu}&\\mspace{-6mu} - \\mspace{-6mu}&\\mspace{-6mu} \\frac{119}{436} x_{4} \\mspace{-6mu}&\\mspace{-6mu} - \\mspace{-6mu}&\\color{green}\\mspace{-6mu} \\frac{4453}{4796} x_{5}\\\\\n",
       "\\hline\n",
       "z \\mspace{-6mu}&\\mspace{-6mu} = \\mspace{-6mu}&\\mspace{-6mu} \\frac{211}{2398} \\mspace{-6mu}&\\mspace{-6mu} - \\mspace{-6mu}&\\mspace{-6mu} \\frac{46}{1199} x_{9} \\mspace{-6mu}&\\mspace{-6mu} - \\mspace{-6mu}&\\mspace{-6mu} \\frac{59}{4796} x_{8} \\mspace{-6mu}&\\mspace{-6mu} - \\mspace{-6mu}&\\mspace{-6mu} \\frac{179}{4796} x_{6} \\mspace{-6mu}&\\mspace{-6mu} - \\mspace{-6mu}&\\mspace{-6mu} \\frac{59}{436} x_{4} \\mspace{-6mu}&\\mspace{-6mu} + \\mspace{-6mu}&\\color{green}\\mspace{-6mu} \\frac{1555}{4796} x_{5}\\\\\n",
       "\\hline\n",
       "\\end{array}\n",
       "\\end{equation*}\n",
       "Entering: $x_{5}$. Leaving: $x_{7}$. \n",
       "\\begin{equation*}\n",
       "\\renewcommand{\\arraystretch}{1.5} %notruncate\n",
       "\\begin{array}{|rcrcrcrcrcrcr|}\n",
       "\\hline\n",
       "x_{3} \\mspace{-6mu}&\\mspace{-6mu} = \\mspace{-6mu}&\\mspace{-6mu} \\frac{2157}{39827} \\mspace{-6mu}&\\mspace{-6mu} + \\mspace{-6mu}&\\mspace{-6mu} \\frac{2092}{39827} x_{9} \\mspace{-6mu}&\\mspace{-6mu} - \\mspace{-6mu}&\\mspace{-6mu} \\frac{1458}{39827} x_{8} \\mspace{-6mu}&\\mspace{-6mu} - \\mspace{-6mu}&\\mspace{-6mu} \\frac{940}{39827} x_{6} \\mspace{-6mu}&\\mspace{-6mu} - \\mspace{-6mu}&\\mspace{-6mu} \\frac{12336}{39827} x_{4} \\mspace{-6mu}&\\mspace{-6mu} - \\mspace{-6mu}&\\mspace{-6mu} \\frac{1851}{39827} x_{7}\\\\\n",
       "x_{5} \\mspace{-6mu}&\\mspace{-6mu} = \\mspace{-6mu}&\\mspace{-6mu} \\frac{554}{39827} \\mspace{-6mu}&\\mspace{-6mu} + \\mspace{-6mu}&\\mspace{-6mu} \\frac{2236}{39827} x_{9} \\mspace{-6mu}&\\mspace{-6mu} - \\mspace{-6mu}&\\mspace{-6mu} \\frac{873}{39827} x_{8} \\mspace{-6mu}&\\mspace{-6mu} + \\mspace{-6mu}&\\mspace{-6mu} \\frac{2879}{39827} x_{6} \\mspace{-6mu}&\\mspace{-6mu} - \\mspace{-6mu}&\\mspace{-6mu} \\frac{11}{39827} x_{4} \\mspace{-6mu}&\\mspace{-6mu} - \\mspace{-6mu}&\\mspace{-6mu} \\frac{4796}{39827} x_{7}\\\\\n",
       "x_{2} \\mspace{-6mu}&\\mspace{-6mu} = \\mspace{-6mu}&\\mspace{-6mu} \\frac{740}{39827} \\mspace{-6mu}&\\mspace{-6mu} - \\mspace{-6mu}&\\mspace{-6mu} \\frac{464}{39827} x_{9} \\mspace{-6mu}&\\mspace{-6mu} - \\mspace{-6mu}&\\mspace{-6mu} \\frac{1885}{39827} x_{8} \\mspace{-6mu}&\\mspace{-6mu} + \\mspace{-6mu}&\\mspace{-6mu} \\frac{970}{39827} x_{6} \\mspace{-6mu}&\\mspace{-6mu} - \\mspace{-6mu}&\\mspace{-6mu} \\frac{22013}{39827} x_{4} \\mspace{-6mu}&\\mspace{-6mu} + \\mspace{-6mu}&\\mspace{-6mu} \\frac{639}{39827} x_{7}\\\\\n",
       "x_{1} \\mspace{-6mu}&\\mspace{-6mu} = \\mspace{-6mu}&\\mspace{-6mu} \\frac{233}{39827} \\mspace{-6mu}&\\mspace{-6mu} - \\mspace{-6mu}&\\mspace{-6mu} \\frac{4667}{39827} x_{9} \\mspace{-6mu}&\\mspace{-6mu} + \\mspace{-6mu}&\\mspace{-6mu} \\frac{3443}{39827} x_{8} \\mspace{-6mu}&\\mspace{-6mu} - \\mspace{-6mu}&\\mspace{-6mu} \\frac{3462}{39827} x_{6} \\mspace{-6mu}&\\mspace{-6mu} - \\mspace{-6mu}&\\mspace{-6mu} \\frac{10860}{39827} x_{4} \\mspace{-6mu}&\\mspace{-6mu} + \\mspace{-6mu}&\\mspace{-6mu} \\frac{4453}{39827} x_{7}\\\\\n",
       "\\hline\n",
       "z \\mspace{-6mu}&\\mspace{-6mu} = \\mspace{-6mu}&\\mspace{-6mu} \\frac{3684}{39827} \\mspace{-6mu}&\\mspace{-6mu} - \\mspace{-6mu}&\\mspace{-6mu} \\frac{803}{39827} x_{9} \\mspace{-6mu}&\\mspace{-6mu} - \\mspace{-6mu}&\\mspace{-6mu} \\frac{773}{39827} x_{8} \\mspace{-6mu}&\\mspace{-6mu} - \\mspace{-6mu}&\\mspace{-6mu} \\frac{553}{39827} x_{6} \\mspace{-6mu}&\\mspace{-6mu} - \\mspace{-6mu}&\\mspace{-6mu} \\frac{5393}{39827} x_{4} \\mspace{-6mu}&\\mspace{-6mu} - \\mspace{-6mu}&\\mspace{-6mu} \\frac{1555}{39827} x_{7}\\\\\n",
       "\\hline\n",
       "\\end{array}\n",
       "\\end{equation*}\n",
       "The optimal value: $\\frac{3684}{39827}$. An optimal solution: $\\left(\\frac{233}{39827},\\,\\frac{740}{39827},\\,\\frac{2157}{39827},\\,0,\\,\\frac{554}{39827}\\right)$."
      ],
      "text/plain": [
       "<IPython.core.display.Latex object>"
      ]
     },
     "execution_count": 6,
     "metadata": {
     },
     "output_type": "execute_result"
    }
   ],
   "source": [
    "P = P.standard_form()\n",
    "Latex(P.run_simplex_method())"
   ]
  },
  {
   "cell_type": "code",
   "execution_count": 7,
   "metadata": {
    "collapsed": false
   },
   "outputs": [
    {
     "name": "stdout",
     "output_type": "stream",
     "text": [
      "[233/3684, 185/921, 719/1228, 0, 277/1842]\n"
     ]
    }
   ],
   "source": [
    "D = P.final_dictionary()\n",
    "\n",
    "Z = D.objective_value()\n",
    "h = 1/Z\n",
    "\n",
    "solution = D.basic_solution()\n",
    "\n",
    "v = [i * h for i in solution]\n",
    "print(v)"
   ]
  },
  {
   "cell_type": "markdown",
   "metadata": {
    "collapsed": false
   },
   "source": [
    "Таким образом, оптимальная смешанная стратегия игрока $B$: $\\left(\\frac{233}{3684}, \\frac{185}{921}, \\frac{719}{1228}, 0, \\frac{277}{1842}\\right)$."
   ]
  }
 ],
 "metadata": {
  "kernelspec": {
   "display_name": "SageMath (stable)",
   "language": "sagemath",
   "metadata": {
    "cocalc": {
     "description": "Open-source mathematical software system",
     "priority": 10,
     "url": "https://www.sagemath.org/"
    }
   },
   "name": "sagemath"
  },
  "language_info": {
   "codemirror_mode": {
    "name": "ipython",
    "version": 2
   },
   "file_extension": ".py",
   "mimetype": "text/x-python",
   "name": "python",
   "nbconvert_exporter": "python",
   "pygments_lexer": "ipython2",
   "version": "2.7.15"
  }
 },
 "nbformat": 4,
 "nbformat_minor": 0
}